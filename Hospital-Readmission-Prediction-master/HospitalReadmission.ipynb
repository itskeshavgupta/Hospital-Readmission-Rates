{
 "cells": [
  {
   "cell_type": "code",
   "execution_count": 301,
   "metadata": {},
   "outputs": [],
   "source": [
    "%matplotlib inline\n",
    "import seaborn as sns\n",
    "import matplotlib.pyplot as plt\n",
    "import pandas as pd\n",
    "from sklearn import preprocessing\n",
    "from scipy.stats import chisquare, ks_2samp\n",
    "import numpy as np"
   ]
  },
  {
   "cell_type": "code",
   "execution_count": 302,
   "metadata": {},
   "outputs": [
    {
     "data": {
      "text/plain": [
       "(81414, 50)"
      ]
     },
     "execution_count": 302,
     "metadata": {},
     "output_type": "execute_result"
    }
   ],
   "source": [
    "# Reading the data into python\n",
    "data=pd.read_csv(\"training_data.csv\",header=0,skiprows=0,engine='python')\n",
    "data.shape"
   ]
  },
  {
   "cell_type": "code",
   "execution_count": null,
   "metadata": {},
   "outputs": [],
   "source": []
  },
  {
   "cell_type": "code",
   "execution_count": 303,
   "metadata": {
    "scrolled": true
   },
   "outputs": [
    {
     "data": {
      "text/html": [
       "<div>\n",
       "<style scoped>\n",
       "    .dataframe tbody tr th:only-of-type {\n",
       "        vertical-align: middle;\n",
       "    }\n",
       "\n",
       "    .dataframe tbody tr th {\n",
       "        vertical-align: top;\n",
       "    }\n",
       "\n",
       "    .dataframe thead th {\n",
       "        text-align: right;\n",
       "    }\n",
       "</style>\n",
       "<table border=\"1\" class=\"dataframe\">\n",
       "  <thead>\n",
       "    <tr style=\"text-align: right;\">\n",
       "      <th></th>\n",
       "      <th>encounter_id</th>\n",
       "      <th>patient_nbr</th>\n",
       "      <th>race</th>\n",
       "      <th>gender</th>\n",
       "      <th>age</th>\n",
       "      <th>weight</th>\n",
       "      <th>admission_type_id</th>\n",
       "      <th>discharge_disposition_id</th>\n",
       "      <th>admission_source_id</th>\n",
       "      <th>time_in_hospital</th>\n",
       "      <th>...</th>\n",
       "      <th>citoglipton</th>\n",
       "      <th>insulin</th>\n",
       "      <th>glyburide-metformin</th>\n",
       "      <th>glipizide-metformin</th>\n",
       "      <th>glimepiride-pioglitazone</th>\n",
       "      <th>metformin-rosiglitazone</th>\n",
       "      <th>metformin-pioglitazone</th>\n",
       "      <th>change</th>\n",
       "      <th>diabetesMed</th>\n",
       "      <th>readmitted</th>\n",
       "    </tr>\n",
       "  </thead>\n",
       "  <tbody>\n",
       "    <tr>\n",
       "      <th>0</th>\n",
       "      <td>2278392</td>\n",
       "      <td>8222157</td>\n",
       "      <td>Caucasian</td>\n",
       "      <td>Female</td>\n",
       "      <td>[0-10)</td>\n",
       "      <td>?</td>\n",
       "      <td>6</td>\n",
       "      <td>25</td>\n",
       "      <td>1</td>\n",
       "      <td>1</td>\n",
       "      <td>...</td>\n",
       "      <td>No</td>\n",
       "      <td>No</td>\n",
       "      <td>No</td>\n",
       "      <td>No</td>\n",
       "      <td>No</td>\n",
       "      <td>No</td>\n",
       "      <td>No</td>\n",
       "      <td>No</td>\n",
       "      <td>No</td>\n",
       "      <td>N</td>\n",
       "    </tr>\n",
       "    <tr>\n",
       "      <th>1</th>\n",
       "      <td>149190</td>\n",
       "      <td>55629189</td>\n",
       "      <td>Caucasian</td>\n",
       "      <td>Female</td>\n",
       "      <td>[10-20)</td>\n",
       "      <td>?</td>\n",
       "      <td>1</td>\n",
       "      <td>1</td>\n",
       "      <td>7</td>\n",
       "      <td>3</td>\n",
       "      <td>...</td>\n",
       "      <td>No</td>\n",
       "      <td>Up</td>\n",
       "      <td>No</td>\n",
       "      <td>No</td>\n",
       "      <td>No</td>\n",
       "      <td>No</td>\n",
       "      <td>No</td>\n",
       "      <td>Ch</td>\n",
       "      <td>Yes</td>\n",
       "      <td>N</td>\n",
       "    </tr>\n",
       "    <tr>\n",
       "      <th>2</th>\n",
       "      <td>64410</td>\n",
       "      <td>86047875</td>\n",
       "      <td>AfricanAmerican</td>\n",
       "      <td>Female</td>\n",
       "      <td>[20-30)</td>\n",
       "      <td>?</td>\n",
       "      <td>1</td>\n",
       "      <td>1</td>\n",
       "      <td>7</td>\n",
       "      <td>2</td>\n",
       "      <td>...</td>\n",
       "      <td>No</td>\n",
       "      <td>No</td>\n",
       "      <td>No</td>\n",
       "      <td>No</td>\n",
       "      <td>No</td>\n",
       "      <td>No</td>\n",
       "      <td>No</td>\n",
       "      <td>No</td>\n",
       "      <td>Yes</td>\n",
       "      <td>N</td>\n",
       "    </tr>\n",
       "    <tr>\n",
       "      <th>3</th>\n",
       "      <td>500364</td>\n",
       "      <td>82442376</td>\n",
       "      <td>Caucasian</td>\n",
       "      <td>Male</td>\n",
       "      <td>[30-40)</td>\n",
       "      <td>?</td>\n",
       "      <td>1</td>\n",
       "      <td>1</td>\n",
       "      <td>7</td>\n",
       "      <td>2</td>\n",
       "      <td>...</td>\n",
       "      <td>No</td>\n",
       "      <td>Up</td>\n",
       "      <td>No</td>\n",
       "      <td>No</td>\n",
       "      <td>No</td>\n",
       "      <td>No</td>\n",
       "      <td>No</td>\n",
       "      <td>Ch</td>\n",
       "      <td>Yes</td>\n",
       "      <td>N</td>\n",
       "    </tr>\n",
       "    <tr>\n",
       "      <th>4</th>\n",
       "      <td>16680</td>\n",
       "      <td>42519267</td>\n",
       "      <td>Caucasian</td>\n",
       "      <td>Male</td>\n",
       "      <td>[40-50)</td>\n",
       "      <td>?</td>\n",
       "      <td>1</td>\n",
       "      <td>1</td>\n",
       "      <td>7</td>\n",
       "      <td>1</td>\n",
       "      <td>...</td>\n",
       "      <td>No</td>\n",
       "      <td>Steady</td>\n",
       "      <td>No</td>\n",
       "      <td>No</td>\n",
       "      <td>No</td>\n",
       "      <td>No</td>\n",
       "      <td>No</td>\n",
       "      <td>Ch</td>\n",
       "      <td>Yes</td>\n",
       "      <td>N</td>\n",
       "    </tr>\n",
       "  </tbody>\n",
       "</table>\n",
       "<p>5 rows × 50 columns</p>\n",
       "</div>"
      ],
      "text/plain": [
       "   encounter_id  patient_nbr             race  gender      age weight  \\\n",
       "0       2278392      8222157        Caucasian  Female   [0-10)      ?   \n",
       "1        149190     55629189        Caucasian  Female  [10-20)      ?   \n",
       "2         64410     86047875  AfricanAmerican  Female  [20-30)      ?   \n",
       "3        500364     82442376        Caucasian    Male  [30-40)      ?   \n",
       "4         16680     42519267        Caucasian    Male  [40-50)      ?   \n",
       "\n",
       "   admission_type_id  discharge_disposition_id  admission_source_id  \\\n",
       "0                  6                        25                    1   \n",
       "1                  1                         1                    7   \n",
       "2                  1                         1                    7   \n",
       "3                  1                         1                    7   \n",
       "4                  1                         1                    7   \n",
       "\n",
       "   time_in_hospital  ... citoglipton insulin  glyburide-metformin  \\\n",
       "0                 1  ...          No      No                   No   \n",
       "1                 3  ...          No      Up                   No   \n",
       "2                 2  ...          No      No                   No   \n",
       "3                 2  ...          No      Up                   No   \n",
       "4                 1  ...          No  Steady                   No   \n",
       "\n",
       "   glipizide-metformin  glimepiride-pioglitazone  metformin-rosiglitazone  \\\n",
       "0                   No                        No                       No   \n",
       "1                   No                        No                       No   \n",
       "2                   No                        No                       No   \n",
       "3                   No                        No                       No   \n",
       "4                   No                        No                       No   \n",
       "\n",
       "   metformin-pioglitazone  change diabetesMed readmitted  \n",
       "0                      No      No          No          N  \n",
       "1                      No      Ch         Yes          N  \n",
       "2                      No      No         Yes          N  \n",
       "3                      No      Ch         Yes          N  \n",
       "4                      No      Ch         Yes          N  \n",
       "\n",
       "[5 rows x 50 columns]"
      ]
     },
     "execution_count": 303,
     "metadata": {},
     "output_type": "execute_result"
    }
   ],
   "source": [
    "# printing out first 5 observations\n",
    "data.head()"
   ]
  },
  {
   "cell_type": "code",
   "execution_count": 304,
   "metadata": {},
   "outputs": [
    {
     "name": "stdout",
     "output_type": "stream",
     "text": [
      "<class 'pandas.core.frame.DataFrame'>\n",
      "RangeIndex: 81414 entries, 0 to 81413\n",
      "Data columns (total 50 columns):\n",
      " #   Column                    Non-Null Count  Dtype \n",
      "---  ------                    --------------  ----- \n",
      " 0   encounter_id              81414 non-null  int64 \n",
      " 1   patient_nbr               81414 non-null  int64 \n",
      " 2   race                      81414 non-null  object\n",
      " 3   gender                    81414 non-null  object\n",
      " 4   age                       81414 non-null  object\n",
      " 5   weight                    81414 non-null  object\n",
      " 6   admission_type_id         81414 non-null  int64 \n",
      " 7   discharge_disposition_id  81414 non-null  int64 \n",
      " 8   admission_source_id       81414 non-null  int64 \n",
      " 9   time_in_hospital          81414 non-null  int64 \n",
      " 10  payer_code                81414 non-null  object\n",
      " 11  medical_specialty         81414 non-null  object\n",
      " 12  num_lab_procedures        81414 non-null  int64 \n",
      " 13  num_procedures            81414 non-null  int64 \n",
      " 14  num_medications           81414 non-null  int64 \n",
      " 15  number_outpatient         81414 non-null  int64 \n",
      " 16  number_emergency          81414 non-null  int64 \n",
      " 17  number_inpatient          81414 non-null  int64 \n",
      " 18  diag_1                    81414 non-null  object\n",
      " 19  diag_2                    81414 non-null  object\n",
      " 20  diag_3                    81414 non-null  object\n",
      " 21  number_diagnoses          81414 non-null  int64 \n",
      " 22  max_glu_serum             4248 non-null   object\n",
      " 23  A1Cresult                 13652 non-null  object\n",
      " 24  metformin                 81414 non-null  object\n",
      " 25  repaglinide               81414 non-null  object\n",
      " 26  nateglinide               81414 non-null  object\n",
      " 27  chlorpropamide            81414 non-null  object\n",
      " 28  glimepiride               81414 non-null  object\n",
      " 29  acetohexamide             81414 non-null  object\n",
      " 30  glipizide                 81414 non-null  object\n",
      " 31  glyburide                 81414 non-null  object\n",
      " 32  tolbutamide               81414 non-null  object\n",
      " 33  pioglitazone              81414 non-null  object\n",
      " 34  rosiglitazone             81414 non-null  object\n",
      " 35  acarbose                  81414 non-null  object\n",
      " 36  miglitol                  81414 non-null  object\n",
      " 37  troglitazone              81414 non-null  object\n",
      " 38  tolazamide                81414 non-null  object\n",
      " 39  examide                   81414 non-null  object\n",
      " 40  citoglipton               81414 non-null  object\n",
      " 41  insulin                   81414 non-null  object\n",
      " 42  glyburide-metformin       81414 non-null  object\n",
      " 43  glipizide-metformin       81414 non-null  object\n",
      " 44  glimepiride-pioglitazone  81414 non-null  object\n",
      " 45  metformin-rosiglitazone   81414 non-null  object\n",
      " 46  metformin-pioglitazone    81414 non-null  object\n",
      " 47  change                    81414 non-null  object\n",
      " 48  diabetesMed               81414 non-null  object\n",
      " 49  readmitted                81414 non-null  object\n",
      "dtypes: int64(13), object(37)\n",
      "memory usage: 31.1+ MB\n",
      "None\n"
     ]
    }
   ],
   "source": [
    "#Printing all the columns in the dataset\n",
    "print(data.info())"
   ]
  },
  {
   "cell_type": "code",
   "execution_count": 305,
   "metadata": {},
   "outputs": [
    {
     "name": "stdout",
     "output_type": "stream",
     "text": [
      "       encounter_id   patient_nbr  admission_type_id  \\\n",
      "count  8.141400e+04  8.141400e+04       81414.000000   \n",
      "mean   1.652012e+08  5.430959e+07           2.020918   \n",
      "std    1.025322e+08  3.869402e+07           1.445327   \n",
      "min    1.252200e+04  1.350000e+02           1.000000   \n",
      "25%    8.507868e+07  2.340358e+07           1.000000   \n",
      "50%    1.524402e+08  4.553196e+07           1.000000   \n",
      "75%    2.301472e+08  8.750457e+07           3.000000   \n",
      "max    4.438672e+08  1.895026e+08           8.000000   \n",
      "\n",
      "       discharge_disposition_id  admission_source_id  time_in_hospital  \\\n",
      "count              81414.000000         81414.000000      81414.000000   \n",
      "mean                   3.709878             5.753777          4.398334   \n",
      "std                    5.267986             4.052119          2.985424   \n",
      "min                    1.000000             1.000000          1.000000   \n",
      "25%                    1.000000             1.000000          2.000000   \n",
      "50%                    1.000000             7.000000          4.000000   \n",
      "75%                    3.000000             7.000000          6.000000   \n",
      "max                   28.000000            25.000000         14.000000   \n",
      "\n",
      "       num_lab_procedures  num_procedures  num_medications  number_outpatient  \\\n",
      "count        81414.000000    81414.000000     81414.000000       81414.000000   \n",
      "mean            43.158535        1.338701        16.029110           0.365686   \n",
      "std             19.679930        1.705755         8.122024           1.235754   \n",
      "min              1.000000        0.000000         1.000000           0.000000   \n",
      "25%             31.000000        0.000000        10.000000           0.000000   \n",
      "50%             44.000000        1.000000        15.000000           0.000000   \n",
      "75%             57.000000        2.000000        20.000000           0.000000   \n",
      "max            132.000000        6.000000        81.000000          42.000000   \n",
      "\n",
      "       number_emergency  number_inpatient  number_diagnoses  \n",
      "count      81414.000000      81414.000000      81414.000000  \n",
      "mean           0.199437          0.635800          7.421807  \n",
      "std            0.964611          1.262974          1.933435  \n",
      "min            0.000000          0.000000          1.000000  \n",
      "25%            0.000000          0.000000          6.000000  \n",
      "50%            0.000000          0.000000          8.000000  \n",
      "75%            0.000000          1.000000          9.000000  \n",
      "max           76.000000         21.000000         16.000000  \n"
     ]
    }
   ],
   "source": [
    "#Descriptive statistics of all the rows\n",
    "print(data.describe())"
   ]
  },
  {
   "cell_type": "markdown",
   "metadata": {},
   "source": [
    "Before we do analysis we need to make sure that there are no duplicate rows. By looking at the data we can confirm that encounter_id is unique and we are checking if there are any duplicate encounter_ids and we find that there aren't any."
   ]
  },
  {
   "cell_type": "code",
   "execution_count": 306,
   "metadata": {},
   "outputs": [
    {
     "data": {
      "text/html": [
       "<div>\n",
       "<style scoped>\n",
       "    .dataframe tbody tr th:only-of-type {\n",
       "        vertical-align: middle;\n",
       "    }\n",
       "\n",
       "    .dataframe tbody tr th {\n",
       "        vertical-align: top;\n",
       "    }\n",
       "\n",
       "    .dataframe thead th {\n",
       "        text-align: right;\n",
       "    }\n",
       "</style>\n",
       "<table border=\"1\" class=\"dataframe\">\n",
       "  <thead>\n",
       "    <tr style=\"text-align: right;\">\n",
       "      <th></th>\n",
       "      <th>encounter_id</th>\n",
       "      <th>patient_nbr</th>\n",
       "      <th>race</th>\n",
       "      <th>gender</th>\n",
       "      <th>age</th>\n",
       "      <th>weight</th>\n",
       "      <th>admission_type_id</th>\n",
       "      <th>discharge_disposition_id</th>\n",
       "      <th>admission_source_id</th>\n",
       "      <th>time_in_hospital</th>\n",
       "      <th>...</th>\n",
       "      <th>citoglipton</th>\n",
       "      <th>insulin</th>\n",
       "      <th>glyburide-metformin</th>\n",
       "      <th>glipizide-metformin</th>\n",
       "      <th>glimepiride-pioglitazone</th>\n",
       "      <th>metformin-rosiglitazone</th>\n",
       "      <th>metformin-pioglitazone</th>\n",
       "      <th>change</th>\n",
       "      <th>diabetesMed</th>\n",
       "      <th>readmitted</th>\n",
       "    </tr>\n",
       "  </thead>\n",
       "  <tbody>\n",
       "  </tbody>\n",
       "</table>\n",
       "<p>0 rows × 50 columns</p>\n",
       "</div>"
      ],
      "text/plain": [
       "Empty DataFrame\n",
       "Columns: [encounter_id, patient_nbr, race, gender, age, weight, admission_type_id, discharge_disposition_id, admission_source_id, time_in_hospital, payer_code, medical_specialty, num_lab_procedures, num_procedures, num_medications, number_outpatient, number_emergency, number_inpatient, diag_1, diag_2, diag_3, number_diagnoses, max_glu_serum, A1Cresult, metformin, repaglinide, nateglinide, chlorpropamide, glimepiride, acetohexamide, glipizide, glyburide, tolbutamide, pioglitazone, rosiglitazone, acarbose, miglitol, troglitazone, tolazamide, examide, citoglipton, insulin, glyburide-metformin, glipizide-metformin, glimepiride-pioglitazone, metformin-rosiglitazone, metformin-pioglitazone, change, diabetesMed, readmitted]\n",
       "Index: []\n",
       "\n",
       "[0 rows x 50 columns]"
      ]
     },
     "execution_count": 306,
     "metadata": {},
     "output_type": "execute_result"
    }
   ],
   "source": [
    "ids = data['encounter_id']\n",
    "data[ids.duplicated()]"
   ]
  },
  {
   "cell_type": "code",
   "execution_count": 307,
   "metadata": {},
   "outputs": [
    {
     "data": {
      "text/html": [
       "<div>\n",
       "<style scoped>\n",
       "    .dataframe tbody tr th:only-of-type {\n",
       "        vertical-align: middle;\n",
       "    }\n",
       "\n",
       "    .dataframe tbody tr th {\n",
       "        vertical-align: top;\n",
       "    }\n",
       "\n",
       "    .dataframe thead th {\n",
       "        text-align: right;\n",
       "    }\n",
       "</style>\n",
       "<table border=\"1\" class=\"dataframe\">\n",
       "  <thead>\n",
       "    <tr style=\"text-align: right;\">\n",
       "      <th></th>\n",
       "      <th>encounter_id</th>\n",
       "      <th>patient_nbr</th>\n",
       "      <th>race</th>\n",
       "      <th>gender</th>\n",
       "      <th>age</th>\n",
       "      <th>weight</th>\n",
       "      <th>admission_type_id</th>\n",
       "      <th>discharge_disposition_id</th>\n",
       "      <th>admission_source_id</th>\n",
       "      <th>time_in_hospital</th>\n",
       "      <th>...</th>\n",
       "      <th>citoglipton</th>\n",
       "      <th>insulin</th>\n",
       "      <th>glyburide-metformin</th>\n",
       "      <th>glipizide-metformin</th>\n",
       "      <th>glimepiride-pioglitazone</th>\n",
       "      <th>metformin-rosiglitazone</th>\n",
       "      <th>metformin-pioglitazone</th>\n",
       "      <th>change</th>\n",
       "      <th>diabetesMed</th>\n",
       "      <th>readmitted</th>\n",
       "    </tr>\n",
       "  </thead>\n",
       "  <tbody>\n",
       "  </tbody>\n",
       "</table>\n",
       "<p>0 rows × 50 columns</p>\n",
       "</div>"
      ],
      "text/plain": [
       "Empty DataFrame\n",
       "Columns: [encounter_id, patient_nbr, race, gender, age, weight, admission_type_id, discharge_disposition_id, admission_source_id, time_in_hospital, payer_code, medical_specialty, num_lab_procedures, num_procedures, num_medications, number_outpatient, number_emergency, number_inpatient, diag_1, diag_2, diag_3, number_diagnoses, max_glu_serum, A1Cresult, metformin, repaglinide, nateglinide, chlorpropamide, glimepiride, acetohexamide, glipizide, glyburide, tolbutamide, pioglitazone, rosiglitazone, acarbose, miglitol, troglitazone, tolazamide, examide, citoglipton, insulin, glyburide-metformin, glipizide-metformin, glimepiride-pioglitazone, metformin-rosiglitazone, metformin-pioglitazone, change, diabetesMed, readmitted]\n",
       "Index: []\n",
       "\n",
       "[0 rows x 50 columns]"
      ]
     },
     "execution_count": 307,
     "metadata": {},
     "output_type": "execute_result"
    }
   ],
   "source": [
    "#checking if there are any duplicates in encounter_id - no duplicates found\n",
    "ids = data['encounter_id']\n",
    "data[ids.isin(ids[ids.duplicated()])]\n",
    "#no duplicates found"
   ]
  },
  {
   "cell_type": "code",
   "execution_count": 308,
   "metadata": {},
   "outputs": [],
   "source": [
    "# Considering values with '?' as missing values.\n",
    "data = data.replace('?', np.NaN )"
   ]
  },
  {
   "cell_type": "code",
   "execution_count": 309,
   "metadata": {},
   "outputs": [
    {
     "name": "stdout",
     "output_type": "stream",
     "text": [
      "gender 2\n"
     ]
    }
   ],
   "source": [
    "#One observation is unknown in gender. Replace it as a null value\n",
    "print('gender', data['gender'][data['gender'] == 'Unknown/Invalid'].count())\n",
    "data = data.replace('Unknown/Invalid', np.NaN )"
   ]
  },
  {
   "cell_type": "code",
   "execution_count": 310,
   "metadata": {
    "scrolled": true
   },
   "outputs": [
    {
     "name": "stdout",
     "output_type": "stream",
     "text": [
      "encounter_id                    0\n",
      "patient_nbr                     0\n",
      "race                         1813\n",
      "gender                          2\n",
      "age                             0\n",
      "weight                      78844\n",
      "admission_type_id               0\n",
      "discharge_disposition_id        0\n",
      "admission_source_id             0\n",
      "time_in_hospital                0\n",
      "payer_code                  32231\n",
      "medical_specialty           39935\n",
      "num_lab_procedures              0\n",
      "num_procedures                  0\n",
      "num_medications                 0\n",
      "number_outpatient               0\n",
      "number_emergency                0\n",
      "number_inpatient                0\n",
      "diag_1                         18\n",
      "diag_2                        288\n",
      "diag_3                       1125\n",
      "number_diagnoses                0\n",
      "max_glu_serum               77166\n",
      "A1Cresult                   67762\n",
      "metformin                       0\n",
      "repaglinide                     0\n",
      "nateglinide                     0\n",
      "chlorpropamide                  0\n",
      "glimepiride                     0\n",
      "acetohexamide                   0\n",
      "glipizide                       0\n",
      "glyburide                       0\n",
      "tolbutamide                     0\n",
      "pioglitazone                    0\n",
      "rosiglitazone                   0\n",
      "acarbose                        0\n",
      "miglitol                        0\n",
      "troglitazone                    0\n",
      "tolazamide                      0\n",
      "examide                         0\n",
      "citoglipton                     0\n",
      "insulin                         0\n",
      "glyburide-metformin             0\n",
      "glipizide-metformin             0\n",
      "glimepiride-pioglitazone        0\n",
      "metformin-rosiglitazone         0\n",
      "metformin-pioglitazone          0\n",
      "change                          0\n",
      "diabetesMed                     0\n",
      "readmitted                      0\n",
      "dtype: int64\n"
     ]
    }
   ],
   "source": [
    "#finding the number of null values in each column\n",
    "print(data.isnull().sum())"
   ]
  },
  {
   "cell_type": "markdown",
   "metadata": {},
   "source": [
    "Any row that has more than 40% missing values is rejected."
   ]
  },
  {
   "cell_type": "code",
   "execution_count": 311,
   "metadata": {},
   "outputs": [
    {
     "data": {
      "text/plain": [
       "(81414, 45)"
      ]
     },
     "execution_count": 311,
     "metadata": {},
     "output_type": "execute_result"
    }
   ],
   "source": [
    "# Weight has almost 99% of missing data ; Payer_code and medical_speciality has around 45% of missing data. \n",
    "#It's better to drop these two as well since there are many categories \n",
    "data.drop(['weight','payer_code','medical_specialty','diag_2', 'diag_3'],axis=1,inplace=True)\n",
    "data.shape"
   ]
  },
  {
   "cell_type": "code",
   "execution_count": 312,
   "metadata": {},
   "outputs": [
    {
     "data": {
      "text/plain": [
       "(239, 45)"
      ]
     },
     "execution_count": 312,
     "metadata": {},
     "output_type": "execute_result"
    }
   ],
   "source": [
    "#Dropping rows with missing values\n",
    "data.dropna(inplace=True)\n",
    "data.shape"
   ]
  },
  {
   "cell_type": "code",
   "execution_count": 313,
   "metadata": {
    "scrolled": true
   },
   "outputs": [
    {
     "data": {
      "text/html": [
       "<div>\n",
       "<style scoped>\n",
       "    .dataframe tbody tr th:only-of-type {\n",
       "        vertical-align: middle;\n",
       "    }\n",
       "\n",
       "    .dataframe tbody tr th {\n",
       "        vertical-align: top;\n",
       "    }\n",
       "\n",
       "    .dataframe thead th {\n",
       "        text-align: right;\n",
       "    }\n",
       "</style>\n",
       "<table border=\"1\" class=\"dataframe\">\n",
       "  <thead>\n",
       "    <tr style=\"text-align: right;\">\n",
       "      <th></th>\n",
       "      <th>encounter_id</th>\n",
       "      <th>patient_nbr</th>\n",
       "      <th>race</th>\n",
       "      <th>gender</th>\n",
       "      <th>age</th>\n",
       "      <th>admission_type_id</th>\n",
       "      <th>discharge_disposition_id</th>\n",
       "      <th>admission_source_id</th>\n",
       "      <th>time_in_hospital</th>\n",
       "      <th>num_lab_procedures</th>\n",
       "      <th>...</th>\n",
       "      <th>citoglipton</th>\n",
       "      <th>insulin</th>\n",
       "      <th>glyburide-metformin</th>\n",
       "      <th>glipizide-metformin</th>\n",
       "      <th>glimepiride-pioglitazone</th>\n",
       "      <th>metformin-rosiglitazone</th>\n",
       "      <th>metformin-pioglitazone</th>\n",
       "      <th>change</th>\n",
       "      <th>diabetesMed</th>\n",
       "      <th>readmitted</th>\n",
       "    </tr>\n",
       "  </thead>\n",
       "  <tbody>\n",
       "    <tr>\n",
       "      <th>125</th>\n",
       "      <td>2521974</td>\n",
       "      <td>80499960</td>\n",
       "      <td>Caucasian</td>\n",
       "      <td>Male</td>\n",
       "      <td>[80-90)</td>\n",
       "      <td>6</td>\n",
       "      <td>3</td>\n",
       "      <td>7</td>\n",
       "      <td>5</td>\n",
       "      <td>47</td>\n",
       "      <td>...</td>\n",
       "      <td>No</td>\n",
       "      <td>No</td>\n",
       "      <td>No</td>\n",
       "      <td>No</td>\n",
       "      <td>No</td>\n",
       "      <td>No</td>\n",
       "      <td>No</td>\n",
       "      <td>No</td>\n",
       "      <td>No</td>\n",
       "      <td>Y</td>\n",
       "    </tr>\n",
       "    <tr>\n",
       "      <th>149</th>\n",
       "      <td>2595612</td>\n",
       "      <td>89193870</td>\n",
       "      <td>Caucasian</td>\n",
       "      <td>Female</td>\n",
       "      <td>[40-50)</td>\n",
       "      <td>6</td>\n",
       "      <td>1</td>\n",
       "      <td>7</td>\n",
       "      <td>2</td>\n",
       "      <td>53</td>\n",
       "      <td>...</td>\n",
       "      <td>No</td>\n",
       "      <td>No</td>\n",
       "      <td>No</td>\n",
       "      <td>No</td>\n",
       "      <td>No</td>\n",
       "      <td>No</td>\n",
       "      <td>No</td>\n",
       "      <td>No</td>\n",
       "      <td>No</td>\n",
       "      <td>N</td>\n",
       "    </tr>\n",
       "    <tr>\n",
       "      <th>351</th>\n",
       "      <td>4084524</td>\n",
       "      <td>76959585</td>\n",
       "      <td>AfricanAmerican</td>\n",
       "      <td>Female</td>\n",
       "      <td>[70-80)</td>\n",
       "      <td>6</td>\n",
       "      <td>1</td>\n",
       "      <td>7</td>\n",
       "      <td>10</td>\n",
       "      <td>72</td>\n",
       "      <td>...</td>\n",
       "      <td>No</td>\n",
       "      <td>Up</td>\n",
       "      <td>No</td>\n",
       "      <td>No</td>\n",
       "      <td>No</td>\n",
       "      <td>No</td>\n",
       "      <td>No</td>\n",
       "      <td>Ch</td>\n",
       "      <td>Yes</td>\n",
       "      <td>N</td>\n",
       "    </tr>\n",
       "  </tbody>\n",
       "</table>\n",
       "<p>3 rows × 45 columns</p>\n",
       "</div>"
      ],
      "text/plain": [
       "     encounter_id  patient_nbr             race  gender      age  \\\n",
       "125       2521974     80499960        Caucasian    Male  [80-90)   \n",
       "149       2595612     89193870        Caucasian  Female  [40-50)   \n",
       "351       4084524     76959585  AfricanAmerican  Female  [70-80)   \n",
       "\n",
       "     admission_type_id  discharge_disposition_id  admission_source_id  \\\n",
       "125                  6                         3                    7   \n",
       "149                  6                         1                    7   \n",
       "351                  6                         1                    7   \n",
       "\n",
       "     time_in_hospital  num_lab_procedures  ...  citoglipton  insulin  \\\n",
       "125                 5                  47  ...           No       No   \n",
       "149                 2                  53  ...           No       No   \n",
       "351                10                  72  ...           No       Up   \n",
       "\n",
       "     glyburide-metformin  glipizide-metformin  glimepiride-pioglitazone  \\\n",
       "125                   No                   No                        No   \n",
       "149                   No                   No                        No   \n",
       "351                   No                   No                        No   \n",
       "\n",
       "    metformin-rosiglitazone  metformin-pioglitazone change diabetesMed  \\\n",
       "125                      No                      No     No          No   \n",
       "149                      No                      No     No          No   \n",
       "351                      No                      No     Ch         Yes   \n",
       "\n",
       "    readmitted  \n",
       "125          Y  \n",
       "149          N  \n",
       "351          N  \n",
       "\n",
       "[3 rows x 45 columns]"
      ]
     },
     "execution_count": 313,
     "metadata": {},
     "output_type": "execute_result"
    }
   ],
   "source": [
    "data[0:3]"
   ]
  },
  {
   "cell_type": "code",
   "execution_count": 314,
   "metadata": {},
   "outputs": [
    {
     "name": "stdout",
     "output_type": "stream",
     "text": [
      "['race' 'gender' 'age' 'diag_1' 'max_glu_serum' 'A1Cresult' 'metformin'\n",
      " 'repaglinide' 'nateglinide' 'chlorpropamide' 'glimepiride'\n",
      " 'acetohexamide' 'glipizide' 'glyburide' 'tolbutamide' 'pioglitazone'\n",
      " 'rosiglitazone' 'acarbose' 'miglitol' 'troglitazone' 'tolazamide'\n",
      " 'examide' 'citoglipton' 'insulin' 'glyburide-metformin'\n",
      " 'glipizide-metformin' 'glimepiride-pioglitazone'\n",
      " 'metformin-rosiglitazone' 'metformin-pioglitazone' 'change' 'diabetesMed'\n",
      " 'readmitted']\n",
      "['encounter_id' 'patient_nbr' 'admission_type_id'\n",
      " 'discharge_disposition_id' 'admission_source_id' 'time_in_hospital'\n",
      " 'num_lab_procedures' 'num_procedures' 'num_medications'\n",
      " 'number_outpatient' 'number_emergency' 'number_inpatient'\n",
      " 'number_diagnoses']\n"
     ]
    }
   ],
   "source": [
    "#creating a list of categorical and numeric columns names\n",
    "categorical=data.select_dtypes(include=['object'])\n",
    "numeric=data.select_dtypes(exclude=['object'])\n",
    "print(categorical.columns.values)\n",
    "print(numeric.columns.values)"
   ]
  },
  {
   "cell_type": "code",
   "execution_count": 315,
   "metadata": {
    "scrolled": true
   },
   "outputs": [
    {
     "name": "stdout",
     "output_type": "stream",
     "text": [
      "race\n",
      "Caucasian          146\n",
      "AfricanAmerican     40\n",
      "Hispanic            34\n",
      "Other               12\n",
      "Asian                7\n",
      "Name: count, dtype: int64\n",
      "gender\n",
      "Female    136\n",
      "Male      103\n",
      "Name: count, dtype: int64\n",
      "age\n",
      "[50-60)    58\n",
      "[70-80)    51\n",
      "[60-70)    47\n",
      "[80-90)    33\n",
      "[40-50)    31\n",
      "[30-40)    12\n",
      "[10-20)     4\n",
      "[20-30)     3\n",
      "Name: count, dtype: int64\n",
      "diag_1\n",
      "491    15\n",
      "682    15\n",
      "428    14\n",
      "414    14\n",
      "786    10\n",
      "       ..\n",
      "714     1\n",
      "780     1\n",
      "535     1\n",
      "8       1\n",
      "411     1\n",
      "Name: count, Length: 85, dtype: int64\n",
      "max_glu_serum\n",
      ">300    100\n",
      "Norm     81\n",
      ">200     58\n",
      "Name: count, dtype: int64\n",
      "A1Cresult\n",
      ">8      142\n",
      ">7       50\n",
      "Norm     47\n",
      "Name: count, dtype: int64\n",
      "metformin\n",
      "No        202\n",
      "Steady     29\n",
      "Up          6\n",
      "Down        2\n",
      "Name: count, dtype: int64\n",
      "repaglinide\n",
      "No        230\n",
      "Steady      8\n",
      "Up          1\n",
      "Name: count, dtype: int64\n",
      "nateglinide\n",
      "No    239\n",
      "Name: count, dtype: int64\n",
      "chlorpropamide\n",
      "No    239\n",
      "Name: count, dtype: int64\n",
      "glimepiride\n",
      "No        233\n",
      "Steady      5\n",
      "Up          1\n",
      "Name: count, dtype: int64\n",
      "acetohexamide\n",
      "No    239\n",
      "Name: count, dtype: int64\n",
      "glipizide\n",
      "No        198\n",
      "Steady     33\n",
      "Up          6\n",
      "Down        2\n",
      "Name: count, dtype: int64\n",
      "glyburide\n",
      "No        226\n",
      "Steady     13\n",
      "Name: count, dtype: int64\n",
      "tolbutamide\n",
      "No    239\n",
      "Name: count, dtype: int64\n",
      "pioglitazone\n",
      "No        229\n",
      "Steady     10\n",
      "Name: count, dtype: int64\n",
      "rosiglitazone\n",
      "No        231\n",
      "Steady      6\n",
      "Up          2\n",
      "Name: count, dtype: int64\n",
      "acarbose\n",
      "No        238\n",
      "Steady      1\n",
      "Name: count, dtype: int64\n",
      "miglitol\n",
      "No    239\n",
      "Name: count, dtype: int64\n",
      "troglitazone\n",
      "No    239\n",
      "Name: count, dtype: int64\n",
      "tolazamide\n",
      "No    239\n",
      "Name: count, dtype: int64\n",
      "examide\n",
      "No    239\n",
      "Name: count, dtype: int64\n",
      "citoglipton\n",
      "No    239\n",
      "Name: count, dtype: int64\n",
      "insulin\n",
      "No        164\n",
      "Steady     44\n",
      "Down       20\n",
      "Up         11\n",
      "Name: count, dtype: int64\n",
      "glyburide-metformin\n",
      "No    239\n",
      "Name: count, dtype: int64\n",
      "glipizide-metformin\n",
      "No    239\n",
      "Name: count, dtype: int64\n",
      "glimepiride-pioglitazone\n",
      "No    239\n",
      "Name: count, dtype: int64\n",
      "metformin-rosiglitazone\n",
      "No    239\n",
      "Name: count, dtype: int64\n",
      "metformin-pioglitazone\n",
      "No    239\n",
      "Name: count, dtype: int64\n",
      "change\n",
      "No    166\n",
      "Ch     73\n",
      "Name: count, dtype: int64\n",
      "diabetesMed\n",
      "Yes    144\n",
      "No      95\n",
      "Name: count, dtype: int64\n",
      "readmitted\n",
      "N    211\n",
      "Y     28\n",
      "Name: count, dtype: int64\n"
     ]
    }
   ],
   "source": [
    "#printing the frequency count of all the categorical features\n",
    "for col in categorical:\n",
    "    print(categorical[col].value_counts())"
   ]
  },
  {
   "cell_type": "code",
   "execution_count": 316,
   "metadata": {
    "scrolled": true
   },
   "outputs": [
    {
     "name": "stdout",
     "output_type": "stream",
     "text": [
      "encounter_id\n",
      "2521974      1\n",
      "194568402    1\n",
      "184924632    1\n",
      "188874102    1\n",
      "189203190    1\n",
      "            ..\n",
      "106713024    1\n",
      "108122292    1\n",
      "109275234    1\n",
      "110558316    1\n",
      "434900486    1\n",
      "Name: count, Length: 239, dtype: int64\n",
      "patient_nbr\n",
      "64565010     3\n",
      "76959585     2\n",
      "92829879     2\n",
      "88995861     2\n",
      "80499960     1\n",
      "            ..\n",
      "83270862     1\n",
      "31404276     1\n",
      "102716199    1\n",
      "50514147     1\n",
      "126428594    1\n",
      "Name: count, Length: 234, dtype: int64\n",
      "admission_type_id\n",
      "6    194\n",
      "1     41\n",
      "3      2\n",
      "2      2\n",
      "Name: count, dtype: int64\n",
      "discharge_disposition_id\n",
      "1     160\n",
      "3      25\n",
      "6      23\n",
      "2      14\n",
      "7       9\n",
      "5       3\n",
      "11      3\n",
      "10      1\n",
      "13      1\n",
      "Name: count, dtype: int64\n",
      "admission_source_id\n",
      "7    216\n",
      "1     21\n",
      "2      2\n",
      "Name: count, dtype: int64\n",
      "time_in_hospital\n",
      "4     44\n",
      "2     28\n",
      "3     27\n",
      "5     26\n",
      "6     25\n",
      "7     18\n",
      "1     16\n",
      "10    12\n",
      "9     12\n",
      "8     12\n",
      "12     7\n",
      "11     5\n",
      "14     5\n",
      "13     2\n",
      "Name: count, dtype: int64\n",
      "num_lab_procedures\n",
      "65     9\n",
      "49     8\n",
      "58     8\n",
      "67     8\n",
      "72     7\n",
      "      ..\n",
      "102    1\n",
      "32     1\n",
      "85     1\n",
      "36     1\n",
      "97     1\n",
      "Name: count, Length: 61, dtype: int64\n",
      "num_procedures\n",
      "0    141\n",
      "3     38\n",
      "1     36\n",
      "2     20\n",
      "5      2\n",
      "4      2\n",
      "Name: count, dtype: int64\n",
      "num_medications\n",
      "11    19\n",
      "19    18\n",
      "16    17\n",
      "14    16\n",
      "13    15\n",
      "12    14\n",
      "8     11\n",
      "9     11\n",
      "6     10\n",
      "3     10\n",
      "17     9\n",
      "10     9\n",
      "15     8\n",
      "5      7\n",
      "21     7\n",
      "20     7\n",
      "26     6\n",
      "7      6\n",
      "4      5\n",
      "22     4\n",
      "18     4\n",
      "28     3\n",
      "24     3\n",
      "34     3\n",
      "23     3\n",
      "2      2\n",
      "25     2\n",
      "1      2\n",
      "29     2\n",
      "35     1\n",
      "30     1\n",
      "32     1\n",
      "27     1\n",
      "33     1\n",
      "31     1\n",
      "Name: count, dtype: int64\n",
      "number_outpatient\n",
      "0    222\n",
      "1     11\n",
      "3      2\n",
      "5      1\n",
      "4      1\n",
      "6      1\n",
      "2      1\n",
      "Name: count, dtype: int64\n",
      "number_emergency\n",
      "0    226\n",
      "1      6\n",
      "6      2\n",
      "2      2\n",
      "7      1\n",
      "3      1\n",
      "5      1\n",
      "Name: count, dtype: int64\n",
      "number_inpatient\n",
      "0    166\n",
      "1     35\n",
      "2     20\n",
      "3     11\n",
      "4      3\n",
      "6      2\n",
      "5      1\n",
      "9      1\n",
      "Name: count, dtype: int64\n",
      "number_diagnoses\n",
      "6    116\n",
      "5     56\n",
      "9     28\n",
      "3     17\n",
      "4     12\n",
      "8      6\n",
      "7      2\n",
      "2      1\n",
      "1      1\n",
      "Name: count, dtype: int64\n"
     ]
    }
   ],
   "source": [
    "#printing the frequency of all the numeric features\n",
    "for col in numeric:\n",
    "    print(numeric[col].value_counts())\n",
    "# Didn't find any outliers"
   ]
  },
  {
   "cell_type": "code",
   "execution_count": 317,
   "metadata": {
    "scrolled": false
   },
   "outputs": [
    {
     "data": {
      "image/png": "[encoded data removed]",
      "text/plain": [
       "<Figure size 640x480 with 1 Axes>"
      ]
     },
     "metadata": {},
     "output_type": "display_data"
    },
    {
     "data": {
      "image/png": "[encoded data removed]",
      "text/plain": [
       "<Figure size 640x480 with 1 Axes>"
      ]
     },
     "metadata": {},
     "output_type": "display_data"
    },
    {
     "data": {
      "image/png": "[encoded data removed]",
      "text/plain": [
       "<Figure size 640x480 with 1 Axes>"
      ]
     },
     "metadata": {},
     "output_type": "display_data"
    },
    {
     "data": {
      "image/png": "[encoded data removed]",
      "text/plain": [
       "<Figure size 640x480 with 1 Axes>"
      ]
     },
     "metadata": {},
     "output_type": "display_data"
    },
    {
     "data": {
      "image/png": "[encoded data removed]",
      "text/plain": [
       "<Figure size 640x480 with 1 Axes>"
      ]
     },
     "metadata": {},
     "output_type": "display_data"
    },
    {
     "data": {
      "image/png": "[encoded data removed]",
      "text/plain": [
       "<Figure size 640x480 with 1 Axes>"
      ]
     },
     "metadata": {},
     "output_type": "display_data"
    },
    {
     "data": {
      "image/png": "[encoded data removed]",
      "text/plain": [
       "<Figure size 640x480 with 1 Axes>"
      ]
     },
     "metadata": {},
     "output_type": "display_data"
    },
    {
     "data": {
      "image/png": "[encoded data removed]",
      "text/plain": [
       "<Figure size 640x480 with 1 Axes>"
      ]
     },
     "metadata": {},
     "output_type": "display_data"
    },
    {
     "data": {
      "image/png": "[encoded data removed]",
      "text/plain": [
       "<Figure size 640x480 with 1 Axes>"
      ]
     },
     "metadata": {},
     "output_type": "display_data"
    },
    {
     "data": {
      "image/png": "[encoded data removed]",
      "text/plain": [
       "<Figure size 640x480 with 1 Axes>"
      ]
     },
     "metadata": {},
     "output_type": "display_data"
    },
    {
     "data": {
      "image/png": "[encoded data removed]",
      "text/plain": [
       "<Figure size 640x480 with 1 Axes>"
      ]
     },
     "metadata": {},
     "output_type": "display_data"
    },
    {
     "data": {
      "image/png": "[encoded data removed]",
      "text/plain": [
       "<Figure size 640x480 with 1 Axes>"
      ]
     },
     "metadata": {},
     "output_type": "display_data"
    },
    {
     "data": {
      "image/png": "[encoded data removed]",
      "text/plain": [
       "<Figure size 640x480 with 1 Axes>"
      ]
     },
     "metadata": {},
     "output_type": "display_data"
    },
    {
     "data": {
      "image/png": "[encoded data removed]",
      "text/plain": [
       "<Figure size 640x480 with 1 Axes>"
      ]
     },
     "metadata": {},
     "output_type": "display_data"
    },
    {
     "data": {
      "image/png": "[encoded data removed]",
      "text/plain": [
       "<Figure size 640x480 with 1 Axes>"
      ]
     },
     "metadata": {},
     "output_type": "display_data"
    },
    {
     "data": {
      "image/png": "[encoded data removed]",
      "text/plain": [
       "<Figure size 640x480 with 1 Axes>"
      ]
     },
     "metadata": {},
     "output_type": "display_data"
    },
    {
     "data": {
      "image/png": "[encoded data removed]",
      "text/plain": [
       "<Figure size 640x480 with 1 Axes>"
      ]
     },
     "metadata": {},
     "output_type": "display_data"
    },
    {
     "data": {
      "image/png": "[encoded data removed]",
      "text/plain": [
       "<Figure size 640x480 with 1 Axes>"
      ]
     },
     "metadata": {},
     "output_type": "display_data"
    },
    {
     "data": {
      "image/png": "[encoded data removed]",
      "text/plain": [
       "<Figure size 640x480 with 1 Axes>"
      ]
     },
     "metadata": {},
     "output_type": "display_data"
    },
    {
     "data": {
      "image/png": "[encoded data removed]",
      "text/plain": [
       "<Figure size 640x480 with 1 Axes>"
      ]
     },
     "metadata": {},
     "output_type": "display_data"
    },
    {
     "data": {
      "image/png": "[encoded data removed]",
      "text/plain": [
       "<Figure size 640x480 with 1 Axes>"
      ]
     },
     "metadata": {},
     "output_type": "display_data"
    },
    {
     "data": {
      "image/png": "[encoded data removed]",
      "text/plain": [
       "<Figure size 640x480 with 1 Axes>"
      ]
     },
     "metadata": {},
     "output_type": "display_data"
    },
    {
     "data": {
      "image/png": "[encoded data removed]",
      "text/plain": [
       "<Figure size 640x480 with 1 Axes>"
      ]
     },
     "metadata": {},
     "output_type": "display_data"
    },
    {
     "data": {
      "image/png": "[encoded data removed]",
      "text/plain": [
       "<Figure size 640x480 with 1 Axes>"
      ]
     },
     "metadata": {},
     "output_type": "display_data"
    },
    {
     "data": {
      "image/png": "[encoded data removed]",
      "text/plain": [
       "<Figure size 640x480 with 1 Axes>"
      ]
     },
     "metadata": {},
     "output_type": "display_data"
    },
    {
     "data": {
      "image/png": "[encoded data removed]",
      "text/plain": [
       "<Figure size 640x480 with 1 Axes>"
      ]
     },
     "metadata": {},
     "output_type": "display_data"
    },
    {
     "data": {
      "image/png": "[encoded data removed]",
      "text/plain": [
       "<Figure size 640x480 with 1 Axes>"
      ]
     },
     "metadata": {},
     "output_type": "display_data"
    },
    {
     "data": {
      "image/png": "[encoded data removed]",
      "text/plain": [
       "<Figure size 640x480 with 1 Axes>"
      ]
     },
     "metadata": {},
     "output_type": "display_data"
    },
    {
     "data": {
      "image/png": "[encoded data removed]",
      "text/plain": [
       "<Figure size 640x480 with 1 Axes>"
      ]
     },
     "metadata": {},
     "output_type": "display_data"
    },
    {
     "data": {
      "image/png": "[encoded data removed]",
      "text/plain": [
       "<Figure size 640x480 with 1 Axes>"
      ]
     },
     "metadata": {},
     "output_type": "display_data"
    },
    {
     "data": {
      "image/png": "[encoded data removed]",
      "text/plain": [
       "<Figure size 640x480 with 1 Axes>"
      ]
     },
     "metadata": {},
     "output_type": "display_data"
    },
    {
     "data": {
      "image/png": "[encoded data removed]",
      "text/plain": [
       "<Figure size 640x480 with 1 Axes>"
      ]
     },
     "metadata": {},
     "output_type": "display_data"
    }
   ],
   "source": [
    "for col in categorical:\n",
    "    categorical[col].value_counts().plot(kind='bar')\n",
    "    plt.show()\n",
    "    "
   ]
  },
  {
   "cell_type": "code",
   "execution_count": 318,
   "metadata": {},
   "outputs": [
    {
     "data": {
      "text/plain": [
       "array(['>200', '>300', 'Norm'], dtype=object)"
      ]
     },
     "execution_count": 318,
     "metadata": {},
     "output_type": "execute_result"
    }
   ],
   "source": [
    "data['max_glu_serum'].unique()"
   ]
  },
  {
   "cell_type": "code",
   "execution_count": 319,
   "metadata": {
    "scrolled": false
   },
   "outputs": [
    {
     "data": {
      "image/png": "[encoded data removed]",
      "text/plain": [
       "<Figure size 640x480 with 1 Axes>"
      ]
     },
     "metadata": {},
     "output_type": "display_data"
    },
    {
     "data": {
      "image/png": "[encoded data removed]",
      "text/plain": [
       "<Figure size 640x480 with 1 Axes>"
      ]
     },
     "metadata": {},
     "output_type": "display_data"
    },
    {
     "data": {
      "image/png": "[encoded data removed]",
      "text/plain": [
       "<Figure size 640x480 with 1 Axes>"
      ]
     },
     "metadata": {},
     "output_type": "display_data"
    },
    {
     "data": {
      "image/png": "[encoded data removed]",
      "text/plain": [
       "<Figure size 640x480 with 1 Axes>"
      ]
     },
     "metadata": {},
     "output_type": "display_data"
    },
    {
     "data": {
      "image/png": "[encoded data removed]",
      "text/plain": [
       "<Figure size 640x480 with 1 Axes>"
      ]
     },
     "metadata": {},
     "output_type": "display_data"
    },
    {
     "data": {
      "image/png": "[encoded data removed]",
      "text/plain": [
       "<Figure size 640x480 with 1 Axes>"
      ]
     },
     "metadata": {},
     "output_type": "display_data"
    },
    {
     "data": {
      "image/png": "[encoded data removed]",
      "text/plain": [
       "<Figure size 640x480 with 1 Axes>"
      ]
     },
     "metadata": {},
     "output_type": "display_data"
    },
    {
     "data": {
      "image/png": "[encoded data removed]",
      "text/plain": [
       "<Figure size 640x480 with 1 Axes>"
      ]
     },
     "metadata": {},
     "output_type": "display_data"
    },
    {
     "data": {
      "image/png": "[encoded data removed]",
      "text/plain": [
       "<Figure size 640x480 with 1 Axes>"
      ]
     },
     "metadata": {},
     "output_type": "display_data"
    },
    {
     "data": {
      "image/png": "[encoded data removed]",
      "text/plain": [
       "<Figure size 640x480 with 1 Axes>"
      ]
     },
     "metadata": {},
     "output_type": "display_data"
    },
    {
     "data": {
      "image/png": "[encoded data removed]",
      "text/plain": [
       "<Figure size 640x480 with 1 Axes>"
      ]
     },
     "metadata": {},
     "output_type": "display_data"
    },
    {
     "data": {
      "image/png": "[encoded data removed]",
      "text/plain": [
       "<Figure size 640x480 with 1 Axes>"
      ]
     },
     "metadata": {},
     "output_type": "display_data"
    },
    {
     "data": {
      "image/png": "[encoded data removed]",
      "text/plain": [
       "<Figure size 640x480 with 1 Axes>"
      ]
     },
     "metadata": {},
     "output_type": "display_data"
    }
   ],
   "source": [
    "for col in numeric:\n",
    "    numeric[col].plot.hist(bins=6)\n",
    "    plt.show()"
   ]
  },
  {
   "cell_type": "code",
   "execution_count": 320,
   "metadata": {},
   "outputs": [
    {
     "data": {
      "text/plain": [
       "(239, 43)"
      ]
     },
     "execution_count": 320,
     "metadata": {},
     "output_type": "execute_result"
    }
   ],
   "source": [
    "# Deleting the 2 columns because they have all the observations only in one category \n",
    "data.drop(['examide','citoglipton'],axis=1,inplace=True)\n",
    "data.shape"
   ]
  },
  {
   "cell_type": "code",
   "execution_count": 321,
   "metadata": {},
   "outputs": [
    {
     "data": {
      "text/plain": [
       "(239, 43)"
      ]
     },
     "execution_count": 321,
     "metadata": {},
     "output_type": "execute_result"
    }
   ],
   "source": [
    "#Making the target variable and other variables binary\n",
    "data = data[data['readmitted'].isin(['Y', 'N'])]\n",
    "data['readmitted'] = data['readmitted'].apply(lambda x: 0 if x == \"N\" else 1)\n",
    "data['change'] = data['change'].apply(lambda x: 0 if x == \"No\" else 1)\n",
    "data['gender'] = data['gender'].apply(lambda x: 0 if x == \"Female\" else 1)\n",
    "data['diabetesMed'] = data['diabetesMed'].apply(lambda x: 0 if x == \"No\" else 1)\n",
    "data.shape"
   ]
  },
  {
   "cell_type": "code",
   "execution_count": 322,
   "metadata": {},
   "outputs": [],
   "source": [
    "# There are 3 types of visits to a hospital. 1) Inpatient 2) Outpatient 3) Emergency.\n",
    "# Combining them into a single column\n",
    "data['total_visits'] = data['number_outpatient'] + data['number_emergency'] + data['number_inpatient']"
   ]
  },
  {
   "cell_type": "markdown",
   "metadata": {},
   "source": [
    "We have age feature which is given in bins. We have to changed it with the average value. eg: for age 0-10 we took the average age which is 5."
   ]
  },
  {
   "cell_type": "code",
   "execution_count": 323,
   "metadata": {},
   "outputs": [],
   "source": [
    "#defining a function to give average value for the age\n",
    "def agecategory(x):\n",
    "    \n",
    "    if x == \"[0-10)\" :\n",
    "        return 5\n",
    "    elif x == \"[10-20)\":\n",
    "        return 15\n",
    "    elif x == \"[20-30)\":\n",
    "        return 25\n",
    "    elif x == \"[30-40)\":\n",
    "        return 35\n",
    "    elif x == \"[40-50)\":\n",
    "        return 45\n",
    "    elif x == \"[50-60)\":\n",
    "        return 55\n",
    "    elif x == \"[60-70)\":\n",
    "        return 65\n",
    "    elif x == \"[70-80)\":\n",
    "        return 75\n",
    "    else:\n",
    "        return 0\n",
    "        "
   ]
  },
  {
   "cell_type": "code",
   "execution_count": 324,
   "metadata": {},
   "outputs": [],
   "source": [
    "#replacing the age bins with their average value\n",
    "data['age'] = data['age'].apply(lambda x: agecategory(x))"
   ]
  },
  {
   "cell_type": "code",
   "execution_count": 325,
   "metadata": {},
   "outputs": [
    {
     "data": {
      "text/plain": [
       "125      0\n",
       "149     45\n",
       "351     75\n",
       "538     75\n",
       "600     35\n",
       "1401    55\n",
       "1584    55\n",
       "1646    75\n",
       "1662    75\n",
       "1850    75\n",
       "Name: age, dtype: int64"
      ]
     },
     "execution_count": 325,
     "metadata": {},
     "output_type": "execute_result"
    }
   ],
   "source": [
    "data['age'][:10]"
   ]
  },
  {
   "cell_type": "markdown",
   "metadata": {},
   "source": [
    "There are 23 treatments of which 2 treatments are never used by patients and we took the number of treatments the patient has undergone as a feature which will be used for analysis."
   ]
  },
  {
   "cell_type": "code",
   "execution_count": 326,
   "metadata": {},
   "outputs": [],
   "source": [
    "#It seems like there are many treatments from which a doctor would recommend the patient, lets combine all the\\\n",
    "#treatments into one dataframe\n",
    "treatments = ['metformin' ,'repaglinide','nateglinide','chlorpropamide','glimepiride','acetohexamide' ,'glipizide',\\\n",
    "              'glyburide', 'tolbutamide', 'pioglitazone','rosiglitazone', 'acarbose' ,'miglitol' ,'troglitazone', \\\n",
    "              'tolazamide', 'insulin' ,'glyburide-metformin','glipizide-metformin', \\\n",
    "              'glimepiride-pioglitazone', 'metformin-rosiglitazone', 'metformin-pioglitazone']"
   ]
  },
  {
   "cell_type": "code",
   "execution_count": 327,
   "metadata": {
    "scrolled": true
   },
   "outputs": [
    {
     "name": "stdout",
     "output_type": "stream",
     "text": [
      "['metformin', 'repaglinide', 'nateglinide', 'chlorpropamide', 'glimepiride', 'acetohexamide', 'glipizide', 'glyburide', 'tolbutamide', 'pioglitazone', 'rosiglitazone', 'acarbose', 'miglitol', 'troglitazone', 'tolazamide', 'insulin', 'glyburide-metformin', 'glipizide-metformin', 'glimepiride-pioglitazone', 'metformin-rosiglitazone', 'metformin-pioglitazone']\n"
     ]
    }
   ],
   "source": [
    "print(treatments)"
   ]
  },
  {
   "cell_type": "code",
   "execution_count": 328,
   "metadata": {},
   "outputs": [],
   "source": [
    "#assigning a value of 0 if there are not undergoing treatment and assigning 1 even if they are taking \\\n",
    "#increasing/decreasing/steady dosage\n",
    "for i in treatments:\n",
    "    data[i] = data[i].apply(lambda x: 0 if x == \"No\" else 1)"
   ]
  },
  {
   "cell_type": "code",
   "execution_count": 329,
   "metadata": {},
   "outputs": [],
   "source": [
    "#finding out total number of treatments taken by patient\n",
    "data['treatments_taken'] = np.zeros((len(data['metformin'])))\n",
    "for col in treatments:\n",
    "    data['treatments_taken'] += data[col]"
   ]
  },
  {
   "cell_type": "code",
   "execution_count": 330,
   "metadata": {},
   "outputs": [
    {
     "data": {
      "text/html": [
       "<div>\n",
       "<style scoped>\n",
       "    .dataframe tbody tr th:only-of-type {\n",
       "        vertical-align: middle;\n",
       "    }\n",
       "\n",
       "    .dataframe tbody tr th {\n",
       "        vertical-align: top;\n",
       "    }\n",
       "\n",
       "    .dataframe thead th {\n",
       "        text-align: right;\n",
       "    }\n",
       "</style>\n",
       "<table border=\"1\" class=\"dataframe\">\n",
       "  <thead>\n",
       "    <tr style=\"text-align: right;\">\n",
       "      <th></th>\n",
       "      <th>encounter_id</th>\n",
       "      <th>patient_nbr</th>\n",
       "      <th>race</th>\n",
       "      <th>gender</th>\n",
       "      <th>age</th>\n",
       "      <th>admission_type_id</th>\n",
       "      <th>discharge_disposition_id</th>\n",
       "      <th>admission_source_id</th>\n",
       "      <th>time_in_hospital</th>\n",
       "      <th>num_lab_procedures</th>\n",
       "      <th>...</th>\n",
       "      <th>glyburide-metformin</th>\n",
       "      <th>glipizide-metformin</th>\n",
       "      <th>glimepiride-pioglitazone</th>\n",
       "      <th>metformin-rosiglitazone</th>\n",
       "      <th>metformin-pioglitazone</th>\n",
       "      <th>change</th>\n",
       "      <th>diabetesMed</th>\n",
       "      <th>readmitted</th>\n",
       "      <th>total_visits</th>\n",
       "      <th>treatments_taken</th>\n",
       "    </tr>\n",
       "  </thead>\n",
       "  <tbody>\n",
       "    <tr>\n",
       "      <th>125</th>\n",
       "      <td>2521974</td>\n",
       "      <td>80499960</td>\n",
       "      <td>Caucasian</td>\n",
       "      <td>1</td>\n",
       "      <td>0</td>\n",
       "      <td>6</td>\n",
       "      <td>3</td>\n",
       "      <td>7</td>\n",
       "      <td>5</td>\n",
       "      <td>47</td>\n",
       "      <td>...</td>\n",
       "      <td>0</td>\n",
       "      <td>0</td>\n",
       "      <td>0</td>\n",
       "      <td>0</td>\n",
       "      <td>0</td>\n",
       "      <td>0</td>\n",
       "      <td>0</td>\n",
       "      <td>1</td>\n",
       "      <td>0</td>\n",
       "      <td>0.0</td>\n",
       "    </tr>\n",
       "    <tr>\n",
       "      <th>149</th>\n",
       "      <td>2595612</td>\n",
       "      <td>89193870</td>\n",
       "      <td>Caucasian</td>\n",
       "      <td>0</td>\n",
       "      <td>45</td>\n",
       "      <td>6</td>\n",
       "      <td>1</td>\n",
       "      <td>7</td>\n",
       "      <td>2</td>\n",
       "      <td>53</td>\n",
       "      <td>...</td>\n",
       "      <td>0</td>\n",
       "      <td>0</td>\n",
       "      <td>0</td>\n",
       "      <td>0</td>\n",
       "      <td>0</td>\n",
       "      <td>0</td>\n",
       "      <td>0</td>\n",
       "      <td>0</td>\n",
       "      <td>0</td>\n",
       "      <td>0.0</td>\n",
       "    </tr>\n",
       "    <tr>\n",
       "      <th>351</th>\n",
       "      <td>4084524</td>\n",
       "      <td>76959585</td>\n",
       "      <td>AfricanAmerican</td>\n",
       "      <td>0</td>\n",
       "      <td>75</td>\n",
       "      <td>6</td>\n",
       "      <td>1</td>\n",
       "      <td>7</td>\n",
       "      <td>10</td>\n",
       "      <td>72</td>\n",
       "      <td>...</td>\n",
       "      <td>0</td>\n",
       "      <td>0</td>\n",
       "      <td>0</td>\n",
       "      <td>0</td>\n",
       "      <td>0</td>\n",
       "      <td>1</td>\n",
       "      <td>1</td>\n",
       "      <td>0</td>\n",
       "      <td>0</td>\n",
       "      <td>2.0</td>\n",
       "    </tr>\n",
       "    <tr>\n",
       "      <th>538</th>\n",
       "      <td>5319174</td>\n",
       "      <td>87847776</td>\n",
       "      <td>Other</td>\n",
       "      <td>1</td>\n",
       "      <td>75</td>\n",
       "      <td>6</td>\n",
       "      <td>6</td>\n",
       "      <td>7</td>\n",
       "      <td>11</td>\n",
       "      <td>71</td>\n",
       "      <td>...</td>\n",
       "      <td>0</td>\n",
       "      <td>0</td>\n",
       "      <td>0</td>\n",
       "      <td>0</td>\n",
       "      <td>0</td>\n",
       "      <td>0</td>\n",
       "      <td>1</td>\n",
       "      <td>0</td>\n",
       "      <td>0</td>\n",
       "      <td>1.0</td>\n",
       "    </tr>\n",
       "    <tr>\n",
       "      <th>600</th>\n",
       "      <td>5993358</td>\n",
       "      <td>60354486</td>\n",
       "      <td>Caucasian</td>\n",
       "      <td>0</td>\n",
       "      <td>35</td>\n",
       "      <td>6</td>\n",
       "      <td>1</td>\n",
       "      <td>2</td>\n",
       "      <td>14</td>\n",
       "      <td>43</td>\n",
       "      <td>...</td>\n",
       "      <td>0</td>\n",
       "      <td>0</td>\n",
       "      <td>0</td>\n",
       "      <td>0</td>\n",
       "      <td>0</td>\n",
       "      <td>0</td>\n",
       "      <td>0</td>\n",
       "      <td>0</td>\n",
       "      <td>0</td>\n",
       "      <td>0.0</td>\n",
       "    </tr>\n",
       "  </tbody>\n",
       "</table>\n",
       "<p>5 rows × 45 columns</p>\n",
       "</div>"
      ],
      "text/plain": [
       "     encounter_id  patient_nbr             race  gender  age  \\\n",
       "125       2521974     80499960        Caucasian       1    0   \n",
       "149       2595612     89193870        Caucasian       0   45   \n",
       "351       4084524     76959585  AfricanAmerican       0   75   \n",
       "538       5319174     87847776            Other       1   75   \n",
       "600       5993358     60354486        Caucasian       0   35   \n",
       "\n",
       "     admission_type_id  discharge_disposition_id  admission_source_id  \\\n",
       "125                  6                         3                    7   \n",
       "149                  6                         1                    7   \n",
       "351                  6                         1                    7   \n",
       "538                  6                         6                    7   \n",
       "600                  6                         1                    2   \n",
       "\n",
       "     time_in_hospital  num_lab_procedures  ...  glyburide-metformin  \\\n",
       "125                 5                  47  ...                    0   \n",
       "149                 2                  53  ...                    0   \n",
       "351                10                  72  ...                    0   \n",
       "538                11                  71  ...                    0   \n",
       "600                14                  43  ...                    0   \n",
       "\n",
       "     glipizide-metformin  glimepiride-pioglitazone  metformin-rosiglitazone  \\\n",
       "125                    0                         0                        0   \n",
       "149                    0                         0                        0   \n",
       "351                    0                         0                        0   \n",
       "538                    0                         0                        0   \n",
       "600                    0                         0                        0   \n",
       "\n",
       "     metformin-pioglitazone change  diabetesMed readmitted total_visits  \\\n",
       "125                       0      0            0          1            0   \n",
       "149                       0      0            0          0            0   \n",
       "351                       0      1            1          0            0   \n",
       "538                       0      0            1          0            0   \n",
       "600                       0      0            0          0            0   \n",
       "\n",
       "     treatments_taken  \n",
       "125               0.0  \n",
       "149               0.0  \n",
       "351               2.0  \n",
       "538               1.0  \n",
       "600               0.0  \n",
       "\n",
       "[5 rows x 45 columns]"
      ]
     },
     "execution_count": 330,
     "metadata": {},
     "output_type": "execute_result"
    }
   ],
   "source": [
    "data.head()"
   ]
  },
  {
   "cell_type": "code",
   "execution_count": 331,
   "metadata": {},
   "outputs": [],
   "source": [
    "# AIC > 6.4 implies that the patient has diabetes. Therefore, considered values greater than 7 and 8 together.\n",
    "# other 2 categories : Norm and None ; Norm implies the values in the normal range ; None implies no test conducted;\n",
    "data['A1Cresult'] = data['A1Cresult'].apply(lambda x: 0 if x == \"None\" else (1 if x==\"Norm\" else 2) )\n",
    "data['max_glu_serum'] = data['max_glu_serum'].apply(lambda x: 0 if x == \"None\" else (1 if x==\"Norm\" else 2) )"
   ]
  },
  {
   "cell_type": "code",
   "execution_count": 332,
   "metadata": {},
   "outputs": [],
   "source": [
    "#Based on information in https://www.hindawi.com/journals/bmri/2014/781670/tab2/.Classified diagnosis into 9 categories\n",
    "#Categories[0-8]: Other,Circulatory, Respiratory,Digestive, Diabetes,Injury, Musculoskeletal,Genitourinary,Neoplasms\n",
    "#defining the function to classify the numbers into one of the 8 categories\n",
    "\n",
    "def getCategor(x):\n",
    "    if 'V' in str(x) or 'E' in str(x):\n",
    "        return 0\n",
    "    \n",
    "    x = float(x)\n",
    "    \n",
    "    if (x >= 390 and x <= 459) or np.floor(x) == 785:\n",
    "        return 1\n",
    "    elif (x >= 460 and x <= 519) or np.floor(x) == 786:\n",
    "        return 2\n",
    "    elif (x >= 520 and x <= 579) or np.floor(x) == 787:\n",
    "        return 3\n",
    "    elif np.floor(x) == 250:\n",
    "        return 4\n",
    "    elif x >= 800 and x <= 999:\n",
    "        return 5\n",
    "    elif x >= 710 and x <= 739:\n",
    "        return 6\n",
    "    elif (x >= 580 and x <= 629) or np.floor(x) == 788:\n",
    "        return 7\n",
    "    elif x >= 140 and x <= 239:\n",
    "        return 8\n",
    "    else:\n",
    "        return 0\n",
    "        "
   ]
  },
  {
   "cell_type": "code",
   "execution_count": 333,
   "metadata": {},
   "outputs": [],
   "source": [
    "#changing the values into categories\n",
    "data['diag_1_category'] = data['diag_1'].apply(lambda x: getCategor(x))"
   ]
  },
  {
   "cell_type": "code",
   "execution_count": 334,
   "metadata": {},
   "outputs": [
    {
     "data": {
      "text/plain": [
       "125     0\n",
       "149     4\n",
       "351     4\n",
       "538     5\n",
       "600     0\n",
       "1401    0\n",
       "1584    6\n",
       "1646    6\n",
       "1662    1\n",
       "1850    1\n",
       "Name: diag_1_category, dtype: int64"
      ]
     },
     "execution_count": 334,
     "metadata": {},
     "output_type": "execute_result"
    }
   ],
   "source": [
    "data['diag_1_category'][:10]"
   ]
  },
  {
   "cell_type": "code",
   "execution_count": 335,
   "metadata": {},
   "outputs": [
    {
     "data": {
      "text/plain": [
       "['encounter_id',\n",
       " 'patient_nbr',\n",
       " 'race',\n",
       " 'gender',\n",
       " 'age',\n",
       " 'admission_type_id',\n",
       " 'discharge_disposition_id',\n",
       " 'admission_source_id',\n",
       " 'time_in_hospital',\n",
       " 'num_lab_procedures',\n",
       " 'num_procedures',\n",
       " 'num_medications',\n",
       " 'number_outpatient',\n",
       " 'number_emergency',\n",
       " 'number_inpatient',\n",
       " 'diag_1',\n",
       " 'number_diagnoses',\n",
       " 'max_glu_serum',\n",
       " 'A1Cresult',\n",
       " 'metformin',\n",
       " 'repaglinide',\n",
       " 'nateglinide',\n",
       " 'chlorpropamide',\n",
       " 'glimepiride',\n",
       " 'acetohexamide',\n",
       " 'glipizide',\n",
       " 'glyburide',\n",
       " 'tolbutamide',\n",
       " 'pioglitazone',\n",
       " 'rosiglitazone',\n",
       " 'acarbose',\n",
       " 'miglitol',\n",
       " 'troglitazone',\n",
       " 'tolazamide',\n",
       " 'insulin',\n",
       " 'glyburide-metformin',\n",
       " 'glipizide-metformin',\n",
       " 'glimepiride-pioglitazone',\n",
       " 'metformin-rosiglitazone',\n",
       " 'metformin-pioglitazone',\n",
       " 'change',\n",
       " 'diabetesMed',\n",
       " 'readmitted',\n",
       " 'total_visits',\n",
       " 'treatments_taken',\n",
       " 'diag_1_category']"
      ]
     },
     "execution_count": 335,
     "metadata": {},
     "output_type": "execute_result"
    }
   ],
   "source": [
    "list(data)"
   ]
  },
  {
   "cell_type": "markdown",
   "metadata": {},
   "source": [
    "Some patients in the data have more than one encounters, we need to make sure to remove the multiple patient visits because that might cause bias in our predictions. For that reason we remove all the visits by a patient other than their first visit."
   ]
  },
  {
   "cell_type": "code",
   "execution_count": 336,
   "metadata": {
    "scrolled": true
   },
   "outputs": [
    {
     "data": {
      "text/html": [
       "<div>\n",
       "<style scoped>\n",
       "    .dataframe tbody tr th:only-of-type {\n",
       "        vertical-align: middle;\n",
       "    }\n",
       "\n",
       "    .dataframe tbody tr th {\n",
       "        vertical-align: top;\n",
       "    }\n",
       "\n",
       "    .dataframe thead th {\n",
       "        text-align: right;\n",
       "    }\n",
       "</style>\n",
       "<table border=\"1\" class=\"dataframe\">\n",
       "  <thead>\n",
       "    <tr style=\"text-align: right;\">\n",
       "      <th></th>\n",
       "      <th>encounter_id</th>\n",
       "      <th>patient_nbr</th>\n",
       "      <th>race</th>\n",
       "      <th>gender</th>\n",
       "      <th>age</th>\n",
       "      <th>admission_type_id</th>\n",
       "      <th>discharge_disposition_id</th>\n",
       "      <th>admission_source_id</th>\n",
       "      <th>time_in_hospital</th>\n",
       "      <th>num_lab_procedures</th>\n",
       "      <th>...</th>\n",
       "      <th>glipizide-metformin</th>\n",
       "      <th>glimepiride-pioglitazone</th>\n",
       "      <th>metformin-rosiglitazone</th>\n",
       "      <th>metformin-pioglitazone</th>\n",
       "      <th>change</th>\n",
       "      <th>diabetesMed</th>\n",
       "      <th>readmitted</th>\n",
       "      <th>total_visits</th>\n",
       "      <th>treatments_taken</th>\n",
       "      <th>diag_1_category</th>\n",
       "    </tr>\n",
       "  </thead>\n",
       "  <tbody>\n",
       "    <tr>\n",
       "      <th>351</th>\n",
       "      <td>4084524</td>\n",
       "      <td>76959585</td>\n",
       "      <td>AfricanAmerican</td>\n",
       "      <td>0</td>\n",
       "      <td>75</td>\n",
       "      <td>6</td>\n",
       "      <td>1</td>\n",
       "      <td>7</td>\n",
       "      <td>10</td>\n",
       "      <td>72</td>\n",
       "      <td>...</td>\n",
       "      <td>0</td>\n",
       "      <td>0</td>\n",
       "      <td>0</td>\n",
       "      <td>0</td>\n",
       "      <td>1</td>\n",
       "      <td>1</td>\n",
       "      <td>0</td>\n",
       "      <td>0</td>\n",
       "      <td>2.0</td>\n",
       "      <td>4</td>\n",
       "    </tr>\n",
       "    <tr>\n",
       "      <th>2617</th>\n",
       "      <td>20473194</td>\n",
       "      <td>64565010</td>\n",
       "      <td>Caucasian</td>\n",
       "      <td>1</td>\n",
       "      <td>75</td>\n",
       "      <td>6</td>\n",
       "      <td>3</td>\n",
       "      <td>7</td>\n",
       "      <td>4</td>\n",
       "      <td>64</td>\n",
       "      <td>...</td>\n",
       "      <td>0</td>\n",
       "      <td>0</td>\n",
       "      <td>0</td>\n",
       "      <td>0</td>\n",
       "      <td>0</td>\n",
       "      <td>1</td>\n",
       "      <td>0</td>\n",
       "      <td>0</td>\n",
       "      <td>1.0</td>\n",
       "      <td>0</td>\n",
       "    </tr>\n",
       "    <tr>\n",
       "      <th>23854</th>\n",
       "      <td>97050930</td>\n",
       "      <td>88995861</td>\n",
       "      <td>Caucasian</td>\n",
       "      <td>0</td>\n",
       "      <td>0</td>\n",
       "      <td>6</td>\n",
       "      <td>3</td>\n",
       "      <td>7</td>\n",
       "      <td>9</td>\n",
       "      <td>80</td>\n",
       "      <td>...</td>\n",
       "      <td>0</td>\n",
       "      <td>0</td>\n",
       "      <td>0</td>\n",
       "      <td>0</td>\n",
       "      <td>1</td>\n",
       "      <td>1</td>\n",
       "      <td>1</td>\n",
       "      <td>0</td>\n",
       "      <td>1.0</td>\n",
       "      <td>4</td>\n",
       "    </tr>\n",
       "    <tr>\n",
       "      <th>24918</th>\n",
       "      <td>100220922</td>\n",
       "      <td>92829879</td>\n",
       "      <td>Hispanic</td>\n",
       "      <td>0</td>\n",
       "      <td>55</td>\n",
       "      <td>6</td>\n",
       "      <td>1</td>\n",
       "      <td>7</td>\n",
       "      <td>6</td>\n",
       "      <td>54</td>\n",
       "      <td>...</td>\n",
       "      <td>0</td>\n",
       "      <td>0</td>\n",
       "      <td>0</td>\n",
       "      <td>0</td>\n",
       "      <td>0</td>\n",
       "      <td>0</td>\n",
       "      <td>0</td>\n",
       "      <td>0</td>\n",
       "      <td>0.0</td>\n",
       "      <td>1</td>\n",
       "    </tr>\n",
       "    <tr>\n",
       "      <th>26337</th>\n",
       "      <td>104670828</td>\n",
       "      <td>64565010</td>\n",
       "      <td>Caucasian</td>\n",
       "      <td>1</td>\n",
       "      <td>75</td>\n",
       "      <td>6</td>\n",
       "      <td>3</td>\n",
       "      <td>7</td>\n",
       "      <td>9</td>\n",
       "      <td>82</td>\n",
       "      <td>...</td>\n",
       "      <td>0</td>\n",
       "      <td>0</td>\n",
       "      <td>0</td>\n",
       "      <td>0</td>\n",
       "      <td>0</td>\n",
       "      <td>0</td>\n",
       "      <td>0</td>\n",
       "      <td>0</td>\n",
       "      <td>0.0</td>\n",
       "      <td>2</td>\n",
       "    </tr>\n",
       "    <tr>\n",
       "      <th>34491</th>\n",
       "      <td>133319298</td>\n",
       "      <td>76959585</td>\n",
       "      <td>AfricanAmerican</td>\n",
       "      <td>0</td>\n",
       "      <td>0</td>\n",
       "      <td>6</td>\n",
       "      <td>1</td>\n",
       "      <td>7</td>\n",
       "      <td>7</td>\n",
       "      <td>63</td>\n",
       "      <td>...</td>\n",
       "      <td>0</td>\n",
       "      <td>0</td>\n",
       "      <td>0</td>\n",
       "      <td>0</td>\n",
       "      <td>1</td>\n",
       "      <td>1</td>\n",
       "      <td>0</td>\n",
       "      <td>3</td>\n",
       "      <td>2.0</td>\n",
       "      <td>0</td>\n",
       "    </tr>\n",
       "    <tr>\n",
       "      <th>39403</th>\n",
       "      <td>149376126</td>\n",
       "      <td>92829879</td>\n",
       "      <td>Hispanic</td>\n",
       "      <td>0</td>\n",
       "      <td>55</td>\n",
       "      <td>6</td>\n",
       "      <td>1</td>\n",
       "      <td>7</td>\n",
       "      <td>2</td>\n",
       "      <td>64</td>\n",
       "      <td>...</td>\n",
       "      <td>0</td>\n",
       "      <td>0</td>\n",
       "      <td>0</td>\n",
       "      <td>0</td>\n",
       "      <td>0</td>\n",
       "      <td>0</td>\n",
       "      <td>0</td>\n",
       "      <td>0</td>\n",
       "      <td>0.0</td>\n",
       "      <td>1</td>\n",
       "    </tr>\n",
       "    <tr>\n",
       "      <th>63501</th>\n",
       "      <td>243380460</td>\n",
       "      <td>64565010</td>\n",
       "      <td>Caucasian</td>\n",
       "      <td>1</td>\n",
       "      <td>75</td>\n",
       "      <td>6</td>\n",
       "      <td>6</td>\n",
       "      <td>1</td>\n",
       "      <td>8</td>\n",
       "      <td>52</td>\n",
       "      <td>...</td>\n",
       "      <td>0</td>\n",
       "      <td>0</td>\n",
       "      <td>0</td>\n",
       "      <td>0</td>\n",
       "      <td>0</td>\n",
       "      <td>1</td>\n",
       "      <td>0</td>\n",
       "      <td>1</td>\n",
       "      <td>1.0</td>\n",
       "      <td>0</td>\n",
       "    </tr>\n",
       "    <tr>\n",
       "      <th>69582</th>\n",
       "      <td>276926370</td>\n",
       "      <td>88995861</td>\n",
       "      <td>Caucasian</td>\n",
       "      <td>0</td>\n",
       "      <td>0</td>\n",
       "      <td>6</td>\n",
       "      <td>3</td>\n",
       "      <td>7</td>\n",
       "      <td>10</td>\n",
       "      <td>93</td>\n",
       "      <td>...</td>\n",
       "      <td>0</td>\n",
       "      <td>0</td>\n",
       "      <td>0</td>\n",
       "      <td>0</td>\n",
       "      <td>1</td>\n",
       "      <td>1</td>\n",
       "      <td>1</td>\n",
       "      <td>2</td>\n",
       "      <td>1.0</td>\n",
       "      <td>1</td>\n",
       "    </tr>\n",
       "  </tbody>\n",
       "</table>\n",
       "<p>9 rows × 46 columns</p>\n",
       "</div>"
      ],
      "text/plain": [
       "       encounter_id  patient_nbr             race  gender  age  \\\n",
       "351         4084524     76959585  AfricanAmerican       0   75   \n",
       "2617       20473194     64565010        Caucasian       1   75   \n",
       "23854      97050930     88995861        Caucasian       0    0   \n",
       "24918     100220922     92829879         Hispanic       0   55   \n",
       "26337     104670828     64565010        Caucasian       1   75   \n",
       "34491     133319298     76959585  AfricanAmerican       0    0   \n",
       "39403     149376126     92829879         Hispanic       0   55   \n",
       "63501     243380460     64565010        Caucasian       1   75   \n",
       "69582     276926370     88995861        Caucasian       0    0   \n",
       "\n",
       "       admission_type_id  discharge_disposition_id  admission_source_id  \\\n",
       "351                    6                         1                    7   \n",
       "2617                   6                         3                    7   \n",
       "23854                  6                         3                    7   \n",
       "24918                  6                         1                    7   \n",
       "26337                  6                         3                    7   \n",
       "34491                  6                         1                    7   \n",
       "39403                  6                         1                    7   \n",
       "63501                  6                         6                    1   \n",
       "69582                  6                         3                    7   \n",
       "\n",
       "       time_in_hospital  num_lab_procedures  ...  glipizide-metformin  \\\n",
       "351                  10                  72  ...                    0   \n",
       "2617                  4                  64  ...                    0   \n",
       "23854                 9                  80  ...                    0   \n",
       "24918                 6                  54  ...                    0   \n",
       "26337                 9                  82  ...                    0   \n",
       "34491                 7                  63  ...                    0   \n",
       "39403                 2                  64  ...                    0   \n",
       "63501                 8                  52  ...                    0   \n",
       "69582                10                  93  ...                    0   \n",
       "\n",
       "       glimepiride-pioglitazone  metformin-rosiglitazone  \\\n",
       "351                           0                        0   \n",
       "2617                          0                        0   \n",
       "23854                         0                        0   \n",
       "24918                         0                        0   \n",
       "26337                         0                        0   \n",
       "34491                         0                        0   \n",
       "39403                         0                        0   \n",
       "63501                         0                        0   \n",
       "69582                         0                        0   \n",
       "\n",
       "       metformin-pioglitazone  change diabetesMed  readmitted  total_visits  \\\n",
       "351                         0       1           1           0             0   \n",
       "2617                        0       0           1           0             0   \n",
       "23854                       0       1           1           1             0   \n",
       "24918                       0       0           0           0             0   \n",
       "26337                       0       0           0           0             0   \n",
       "34491                       0       1           1           0             3   \n",
       "39403                       0       0           0           0             0   \n",
       "63501                       0       0           1           0             1   \n",
       "69582                       0       1           1           1             2   \n",
       "\n",
       "       treatments_taken  diag_1_category  \n",
       "351                 2.0                4  \n",
       "2617                1.0                0  \n",
       "23854               1.0                4  \n",
       "24918               0.0                1  \n",
       "26337               0.0                2  \n",
       "34491               2.0                0  \n",
       "39403               0.0                1  \n",
       "63501               1.0                0  \n",
       "69582               1.0                1  \n",
       "\n",
       "[9 rows x 46 columns]"
      ]
     },
     "execution_count": 336,
     "metadata": {},
     "output_type": "execute_result"
    }
   ],
   "source": [
    "#Check for readmitted patients and remove all visits other than the 1st visit\n",
    "patients = data['patient_nbr']\n",
    "data[patients.isin(patients[patients.duplicated()])]"
   ]
  },
  {
   "cell_type": "code",
   "execution_count": 337,
   "metadata": {},
   "outputs": [
    {
     "data": {
      "text/plain": [
       "(234, 46)"
      ]
     },
     "execution_count": 337,
     "metadata": {},
     "output_type": "execute_result"
    }
   ],
   "source": [
    "#dropping the patients encounters other than 1st visit\n",
    "data = data.drop_duplicates(subset= ['patient_nbr'], keep = 'first')\n",
    "data.shape"
   ]
  },
  {
   "cell_type": "markdown",
   "metadata": {},
   "source": [
    "Variables like admission_type_id, discharge_despotion_id etc does not have any intrinsic value associated with them. So we make them categorical variables."
   ]
  },
  {
   "cell_type": "code",
   "execution_count": 338,
   "metadata": {},
   "outputs": [],
   "source": [
    "# coercing the admission_type_id, discharge_disposition_id, admission_source_id diag_1_category, \\\n",
    "# max_glu_serum, A1Cresult into categorical since the magnitudes does not have any intrinsic value\n",
    "data['admission_type_id'] = data['admission_type_id'].astype('object')\n",
    "data['admission_source_id'] = data['admission_source_id'].astype('object')\n",
    "data['discharge_disposition_id'] = data['discharge_disposition_id'].astype('object')\n",
    "data['diag_1_category'] = data['diag_1_category'].astype('object')\n",
    "data['max_glu_serum'] = data['max_glu_serum'].astype('object')\n",
    "data['A1Cresult'] = data['A1Cresult'].astype('object')"
   ]
  },
  {
   "cell_type": "markdown",
   "metadata": {},
   "source": [
    "Features like encounter_id, patient_nbr are for identity purpose and do not contribute towards predictions, so we get rid of them. Variables like number_outpatient, number_emergency are being used to create new variable which are being used for analysis. So we can get rid of the other variables since we got the target variable which ais going to be used for predictions."
   ]
  },
  {
   "cell_type": "code",
   "execution_count": 339,
   "metadata": {},
   "outputs": [],
   "source": [
    "# creating a list for unnecessary columns\n",
    "delete_columns = ['encounter_id','patient_nbr','number_outpatient','number_emergency','number_inpatient',\\\n",
    "                 'metformin','repaglinide','nateglinide','chlorpropamide','glimepiride','acetohexamide','glipizide'\\\n",
    "                  ,'glyburide','tolbutamide','pioglitazone','rosiglitazone','acarbose','miglitol','troglitazone' \\\n",
    "                  ,'tolazamide','insulin','glyburide-metformin','glipizide-metformin','glimepiride-pioglitazone',\\\n",
    "                  'metformin-rosiglitazone','metformin-pioglitazone','diag_1']"
   ]
  },
  {
   "cell_type": "code",
   "execution_count": 340,
   "metadata": {},
   "outputs": [],
   "source": [
    "#dropping the unnecessary columns\n",
    "data.drop(delete_columns, inplace=True, axis=1)"
   ]
  },
  {
   "cell_type": "code",
   "execution_count": 341,
   "metadata": {
    "scrolled": true
   },
   "outputs": [
    {
     "data": {
      "text/html": [
       "<div>\n",
       "<style scoped>\n",
       "    .dataframe tbody tr th:only-of-type {\n",
       "        vertical-align: middle;\n",
       "    }\n",
       "\n",
       "    .dataframe tbody tr th {\n",
       "        vertical-align: top;\n",
       "    }\n",
       "\n",
       "    .dataframe thead th {\n",
       "        text-align: right;\n",
       "    }\n",
       "</style>\n",
       "<table border=\"1\" class=\"dataframe\">\n",
       "  <thead>\n",
       "    <tr style=\"text-align: right;\">\n",
       "      <th></th>\n",
       "      <th>race</th>\n",
       "      <th>gender</th>\n",
       "      <th>age</th>\n",
       "      <th>admission_type_id</th>\n",
       "      <th>discharge_disposition_id</th>\n",
       "      <th>admission_source_id</th>\n",
       "      <th>time_in_hospital</th>\n",
       "      <th>num_lab_procedures</th>\n",
       "      <th>num_procedures</th>\n",
       "      <th>num_medications</th>\n",
       "      <th>number_diagnoses</th>\n",
       "      <th>max_glu_serum</th>\n",
       "      <th>A1Cresult</th>\n",
       "      <th>change</th>\n",
       "      <th>diabetesMed</th>\n",
       "      <th>readmitted</th>\n",
       "      <th>total_visits</th>\n",
       "      <th>treatments_taken</th>\n",
       "      <th>diag_1_category</th>\n",
       "    </tr>\n",
       "  </thead>\n",
       "  <tbody>\n",
       "    <tr>\n",
       "      <th>125</th>\n",
       "      <td>Caucasian</td>\n",
       "      <td>1</td>\n",
       "      <td>0</td>\n",
       "      <td>6</td>\n",
       "      <td>3</td>\n",
       "      <td>7</td>\n",
       "      <td>5</td>\n",
       "      <td>47</td>\n",
       "      <td>1</td>\n",
       "      <td>6</td>\n",
       "      <td>5</td>\n",
       "      <td>2</td>\n",
       "      <td>1</td>\n",
       "      <td>0</td>\n",
       "      <td>0</td>\n",
       "      <td>1</td>\n",
       "      <td>0</td>\n",
       "      <td>0.0</td>\n",
       "      <td>0</td>\n",
       "    </tr>\n",
       "    <tr>\n",
       "      <th>149</th>\n",
       "      <td>Caucasian</td>\n",
       "      <td>0</td>\n",
       "      <td>45</td>\n",
       "      <td>6</td>\n",
       "      <td>1</td>\n",
       "      <td>7</td>\n",
       "      <td>2</td>\n",
       "      <td>53</td>\n",
       "      <td>0</td>\n",
       "      <td>4</td>\n",
       "      <td>2</td>\n",
       "      <td>2</td>\n",
       "      <td>2</td>\n",
       "      <td>0</td>\n",
       "      <td>0</td>\n",
       "      <td>0</td>\n",
       "      <td>0</td>\n",
       "      <td>0.0</td>\n",
       "      <td>4</td>\n",
       "    </tr>\n",
       "    <tr>\n",
       "      <th>351</th>\n",
       "      <td>AfricanAmerican</td>\n",
       "      <td>0</td>\n",
       "      <td>75</td>\n",
       "      <td>6</td>\n",
       "      <td>1</td>\n",
       "      <td>7</td>\n",
       "      <td>10</td>\n",
       "      <td>72</td>\n",
       "      <td>1</td>\n",
       "      <td>19</td>\n",
       "      <td>5</td>\n",
       "      <td>2</td>\n",
       "      <td>2</td>\n",
       "      <td>1</td>\n",
       "      <td>1</td>\n",
       "      <td>0</td>\n",
       "      <td>0</td>\n",
       "      <td>2.0</td>\n",
       "      <td>4</td>\n",
       "    </tr>\n",
       "    <tr>\n",
       "      <th>538</th>\n",
       "      <td>Other</td>\n",
       "      <td>1</td>\n",
       "      <td>75</td>\n",
       "      <td>6</td>\n",
       "      <td>6</td>\n",
       "      <td>7</td>\n",
       "      <td>11</td>\n",
       "      <td>71</td>\n",
       "      <td>1</td>\n",
       "      <td>20</td>\n",
       "      <td>5</td>\n",
       "      <td>2</td>\n",
       "      <td>2</td>\n",
       "      <td>0</td>\n",
       "      <td>1</td>\n",
       "      <td>0</td>\n",
       "      <td>0</td>\n",
       "      <td>1.0</td>\n",
       "      <td>5</td>\n",
       "    </tr>\n",
       "    <tr>\n",
       "      <th>600</th>\n",
       "      <td>Caucasian</td>\n",
       "      <td>0</td>\n",
       "      <td>35</td>\n",
       "      <td>6</td>\n",
       "      <td>1</td>\n",
       "      <td>2</td>\n",
       "      <td>14</td>\n",
       "      <td>43</td>\n",
       "      <td>0</td>\n",
       "      <td>11</td>\n",
       "      <td>3</td>\n",
       "      <td>1</td>\n",
       "      <td>2</td>\n",
       "      <td>0</td>\n",
       "      <td>0</td>\n",
       "      <td>0</td>\n",
       "      <td>0</td>\n",
       "      <td>0.0</td>\n",
       "      <td>0</td>\n",
       "    </tr>\n",
       "  </tbody>\n",
       "</table>\n",
       "</div>"
      ],
      "text/plain": [
       "                race  gender  age admission_type_id discharge_disposition_id  \\\n",
       "125        Caucasian       1    0                 6                        3   \n",
       "149        Caucasian       0   45                 6                        1   \n",
       "351  AfricanAmerican       0   75                 6                        1   \n",
       "538            Other       1   75                 6                        6   \n",
       "600        Caucasian       0   35                 6                        1   \n",
       "\n",
       "    admission_source_id  time_in_hospital  num_lab_procedures  num_procedures  \\\n",
       "125                   7                 5                  47               1   \n",
       "149                   7                 2                  53               0   \n",
       "351                   7                10                  72               1   \n",
       "538                   7                11                  71               1   \n",
       "600                   2                14                  43               0   \n",
       "\n",
       "     num_medications  number_diagnoses max_glu_serum A1Cresult  change  \\\n",
       "125                6                 5             2         1       0   \n",
       "149                4                 2             2         2       0   \n",
       "351               19                 5             2         2       1   \n",
       "538               20                 5             2         2       0   \n",
       "600               11                 3             1         2       0   \n",
       "\n",
       "     diabetesMed  readmitted  total_visits  treatments_taken diag_1_category  \n",
       "125            0           1             0               0.0               0  \n",
       "149            0           0             0               0.0               4  \n",
       "351            1           0             0               2.0               4  \n",
       "538            1           0             0               1.0               5  \n",
       "600            0           0             0               0.0               0  "
      ]
     },
     "execution_count": 341,
     "metadata": {},
     "output_type": "execute_result"
    }
   ],
   "source": [
    "data.head()"
   ]
  },
  {
   "cell_type": "code",
   "execution_count": 342,
   "metadata": {},
   "outputs": [],
   "source": [
    "import numpy as np\n",
    "from scipy.stats import kurtosis\n",
    "from scipy.stats import skew\n",
    "from matplotlib import pyplot as plt\n",
    "import seaborn as sns\n",
    "%matplotlib inline\n",
    "import warnings\n",
    "warnings.filterwarnings('ignore')"
   ]
  },
  {
   "cell_type": "code",
   "execution_count": 343,
   "metadata": {},
   "outputs": [
    {
     "name": "stdout",
     "output_type": "stream",
     "text": [
      "['race' 'admission_type_id' 'discharge_disposition_id'\n",
      " 'admission_source_id' 'max_glu_serum' 'A1Cresult' 'diag_1_category']\n",
      "['gender' 'age' 'time_in_hospital' 'num_lab_procedures' 'num_procedures'\n",
      " 'num_medications' 'number_diagnoses' 'change' 'diabetesMed' 'readmitted'\n",
      " 'total_visits' 'treatments_taken']\n"
     ]
    }
   ],
   "source": [
    "#creating a list of categorical and numeric lists\n",
    "categorical=data.select_dtypes(include=['object'])\n",
    "numeric=data.select_dtypes(exclude=['object'])\n",
    "print(categorical.columns.values)\n",
    "print(numeric.columns.values)"
   ]
  },
  {
   "cell_type": "code",
   "execution_count": 344,
   "metadata": {},
   "outputs": [],
   "source": [
    "# creating dummies for all the categorical variables and deleting the original columns\n",
    "nominal_columns = ['race', 'admission_type_id', 'discharge_disposition_id','admission_source_id' ,'diag_1_category'\\\n",
    "                  , 'max_glu_serum', 'A1Cresult']\n",
    "dummy_df = pd.get_dummies(data[nominal_columns])\n",
    "data = pd.concat([data, dummy_df], axis=1)\n",
    "data = data.drop(nominal_columns, axis=1)"
   ]
  },
  {
   "cell_type": "code",
   "execution_count": 345,
   "metadata": {
    "scrolled": true
   },
   "outputs": [
    {
     "data": {
      "text/html": [
       "<div>\n",
       "<style scoped>\n",
       "    .dataframe tbody tr th:only-of-type {\n",
       "        vertical-align: middle;\n",
       "    }\n",
       "\n",
       "    .dataframe tbody tr th {\n",
       "        vertical-align: top;\n",
       "    }\n",
       "\n",
       "    .dataframe thead th {\n",
       "        text-align: right;\n",
       "    }\n",
       "</style>\n",
       "<table border=\"1\" class=\"dataframe\">\n",
       "  <thead>\n",
       "    <tr style=\"text-align: right;\">\n",
       "      <th></th>\n",
       "      <th>gender</th>\n",
       "      <th>age</th>\n",
       "      <th>time_in_hospital</th>\n",
       "      <th>num_lab_procedures</th>\n",
       "      <th>num_procedures</th>\n",
       "      <th>num_medications</th>\n",
       "      <th>number_diagnoses</th>\n",
       "      <th>change</th>\n",
       "      <th>diabetesMed</th>\n",
       "      <th>readmitted</th>\n",
       "      <th>...</th>\n",
       "      <th>diag_1_category_3</th>\n",
       "      <th>diag_1_category_4</th>\n",
       "      <th>diag_1_category_5</th>\n",
       "      <th>diag_1_category_6</th>\n",
       "      <th>diag_1_category_7</th>\n",
       "      <th>diag_1_category_8</th>\n",
       "      <th>max_glu_serum_1</th>\n",
       "      <th>max_glu_serum_2</th>\n",
       "      <th>A1Cresult_1</th>\n",
       "      <th>A1Cresult_2</th>\n",
       "    </tr>\n",
       "  </thead>\n",
       "  <tbody>\n",
       "    <tr>\n",
       "      <th>125</th>\n",
       "      <td>1</td>\n",
       "      <td>0</td>\n",
       "      <td>5</td>\n",
       "      <td>47</td>\n",
       "      <td>1</td>\n",
       "      <td>6</td>\n",
       "      <td>5</td>\n",
       "      <td>0</td>\n",
       "      <td>0</td>\n",
       "      <td>1</td>\n",
       "      <td>...</td>\n",
       "      <td>False</td>\n",
       "      <td>False</td>\n",
       "      <td>False</td>\n",
       "      <td>False</td>\n",
       "      <td>False</td>\n",
       "      <td>False</td>\n",
       "      <td>False</td>\n",
       "      <td>True</td>\n",
       "      <td>True</td>\n",
       "      <td>False</td>\n",
       "    </tr>\n",
       "    <tr>\n",
       "      <th>149</th>\n",
       "      <td>0</td>\n",
       "      <td>45</td>\n",
       "      <td>2</td>\n",
       "      <td>53</td>\n",
       "      <td>0</td>\n",
       "      <td>4</td>\n",
       "      <td>2</td>\n",
       "      <td>0</td>\n",
       "      <td>0</td>\n",
       "      <td>0</td>\n",
       "      <td>...</td>\n",
       "      <td>False</td>\n",
       "      <td>True</td>\n",
       "      <td>False</td>\n",
       "      <td>False</td>\n",
       "      <td>False</td>\n",
       "      <td>False</td>\n",
       "      <td>False</td>\n",
       "      <td>True</td>\n",
       "      <td>False</td>\n",
       "      <td>True</td>\n",
       "    </tr>\n",
       "    <tr>\n",
       "      <th>351</th>\n",
       "      <td>0</td>\n",
       "      <td>75</td>\n",
       "      <td>10</td>\n",
       "      <td>72</td>\n",
       "      <td>1</td>\n",
       "      <td>19</td>\n",
       "      <td>5</td>\n",
       "      <td>1</td>\n",
       "      <td>1</td>\n",
       "      <td>0</td>\n",
       "      <td>...</td>\n",
       "      <td>False</td>\n",
       "      <td>True</td>\n",
       "      <td>False</td>\n",
       "      <td>False</td>\n",
       "      <td>False</td>\n",
       "      <td>False</td>\n",
       "      <td>False</td>\n",
       "      <td>True</td>\n",
       "      <td>False</td>\n",
       "      <td>True</td>\n",
       "    </tr>\n",
       "    <tr>\n",
       "      <th>538</th>\n",
       "      <td>1</td>\n",
       "      <td>75</td>\n",
       "      <td>11</td>\n",
       "      <td>71</td>\n",
       "      <td>1</td>\n",
       "      <td>20</td>\n",
       "      <td>5</td>\n",
       "      <td>0</td>\n",
       "      <td>1</td>\n",
       "      <td>0</td>\n",
       "      <td>...</td>\n",
       "      <td>False</td>\n",
       "      <td>False</td>\n",
       "      <td>True</td>\n",
       "      <td>False</td>\n",
       "      <td>False</td>\n",
       "      <td>False</td>\n",
       "      <td>False</td>\n",
       "      <td>True</td>\n",
       "      <td>False</td>\n",
       "      <td>True</td>\n",
       "    </tr>\n",
       "    <tr>\n",
       "      <th>600</th>\n",
       "      <td>0</td>\n",
       "      <td>35</td>\n",
       "      <td>14</td>\n",
       "      <td>43</td>\n",
       "      <td>0</td>\n",
       "      <td>11</td>\n",
       "      <td>3</td>\n",
       "      <td>0</td>\n",
       "      <td>0</td>\n",
       "      <td>0</td>\n",
       "      <td>...</td>\n",
       "      <td>False</td>\n",
       "      <td>False</td>\n",
       "      <td>False</td>\n",
       "      <td>False</td>\n",
       "      <td>False</td>\n",
       "      <td>False</td>\n",
       "      <td>True</td>\n",
       "      <td>False</td>\n",
       "      <td>False</td>\n",
       "      <td>True</td>\n",
       "    </tr>\n",
       "  </tbody>\n",
       "</table>\n",
       "<p>5 rows × 46 columns</p>\n",
       "</div>"
      ],
      "text/plain": [
       "     gender  age  time_in_hospital  num_lab_procedures  num_procedures  \\\n",
       "125       1    0                 5                  47               1   \n",
       "149       0   45                 2                  53               0   \n",
       "351       0   75                10                  72               1   \n",
       "538       1   75                11                  71               1   \n",
       "600       0   35                14                  43               0   \n",
       "\n",
       "     num_medications  number_diagnoses  change  diabetesMed  readmitted  ...  \\\n",
       "125                6                 5       0            0           1  ...   \n",
       "149                4                 2       0            0           0  ...   \n",
       "351               19                 5       1            1           0  ...   \n",
       "538               20                 5       0            1           0  ...   \n",
       "600               11                 3       0            0           0  ...   \n",
       "\n",
       "     diag_1_category_3  diag_1_category_4  diag_1_category_5  \\\n",
       "125              False              False              False   \n",
       "149              False               True              False   \n",
       "351              False               True              False   \n",
       "538              False              False               True   \n",
       "600              False              False              False   \n",
       "\n",
       "     diag_1_category_6  diag_1_category_7  diag_1_category_8  max_glu_serum_1  \\\n",
       "125              False              False              False            False   \n",
       "149              False              False              False            False   \n",
       "351              False              False              False            False   \n",
       "538              False              False              False            False   \n",
       "600              False              False              False             True   \n",
       "\n",
       "     max_glu_serum_2  A1Cresult_1  A1Cresult_2  \n",
       "125             True         True        False  \n",
       "149             True        False         True  \n",
       "351             True        False         True  \n",
       "538             True        False         True  \n",
       "600            False        False         True  \n",
       "\n",
       "[5 rows x 46 columns]"
      ]
     },
     "execution_count": 345,
     "metadata": {},
     "output_type": "execute_result"
    }
   ],
   "source": [
    "data.head()"
   ]
  },
  {
   "cell_type": "code",
   "execution_count": 346,
   "metadata": {},
   "outputs": [],
   "source": [
    "data1 = data"
   ]
  },
  {
   "cell_type": "code",
   "execution_count": 347,
   "metadata": {},
   "outputs": [
    {
     "data": {
      "text/html": [
       "<div>\n",
       "<style scoped>\n",
       "    .dataframe tbody tr th:only-of-type {\n",
       "        vertical-align: middle;\n",
       "    }\n",
       "\n",
       "    .dataframe tbody tr th {\n",
       "        vertical-align: top;\n",
       "    }\n",
       "\n",
       "    .dataframe thead th {\n",
       "        text-align: right;\n",
       "    }\n",
       "</style>\n",
       "<table border=\"1\" class=\"dataframe\">\n",
       "  <thead>\n",
       "    <tr style=\"text-align: right;\">\n",
       "      <th></th>\n",
       "      <th>gender</th>\n",
       "      <th>age</th>\n",
       "      <th>time_in_hospital</th>\n",
       "      <th>num_lab_procedures</th>\n",
       "      <th>num_procedures</th>\n",
       "      <th>num_medications</th>\n",
       "      <th>number_diagnoses</th>\n",
       "      <th>change</th>\n",
       "      <th>diabetesMed</th>\n",
       "      <th>readmitted</th>\n",
       "      <th>...</th>\n",
       "      <th>diag_1_category_3</th>\n",
       "      <th>diag_1_category_4</th>\n",
       "      <th>diag_1_category_5</th>\n",
       "      <th>diag_1_category_6</th>\n",
       "      <th>diag_1_category_7</th>\n",
       "      <th>diag_1_category_8</th>\n",
       "      <th>max_glu_serum_1</th>\n",
       "      <th>max_glu_serum_2</th>\n",
       "      <th>A1Cresult_1</th>\n",
       "      <th>A1Cresult_2</th>\n",
       "    </tr>\n",
       "  </thead>\n",
       "  <tbody>\n",
       "    <tr>\n",
       "      <th>125</th>\n",
       "      <td>1</td>\n",
       "      <td>0</td>\n",
       "      <td>5</td>\n",
       "      <td>47</td>\n",
       "      <td>1</td>\n",
       "      <td>6</td>\n",
       "      <td>5</td>\n",
       "      <td>0</td>\n",
       "      <td>0</td>\n",
       "      <td>1</td>\n",
       "      <td>...</td>\n",
       "      <td>False</td>\n",
       "      <td>False</td>\n",
       "      <td>False</td>\n",
       "      <td>False</td>\n",
       "      <td>False</td>\n",
       "      <td>False</td>\n",
       "      <td>False</td>\n",
       "      <td>True</td>\n",
       "      <td>True</td>\n",
       "      <td>False</td>\n",
       "    </tr>\n",
       "    <tr>\n",
       "      <th>149</th>\n",
       "      <td>0</td>\n",
       "      <td>45</td>\n",
       "      <td>2</td>\n",
       "      <td>53</td>\n",
       "      <td>0</td>\n",
       "      <td>4</td>\n",
       "      <td>2</td>\n",
       "      <td>0</td>\n",
       "      <td>0</td>\n",
       "      <td>0</td>\n",
       "      <td>...</td>\n",
       "      <td>False</td>\n",
       "      <td>True</td>\n",
       "      <td>False</td>\n",
       "      <td>False</td>\n",
       "      <td>False</td>\n",
       "      <td>False</td>\n",
       "      <td>False</td>\n",
       "      <td>True</td>\n",
       "      <td>False</td>\n",
       "      <td>True</td>\n",
       "    </tr>\n",
       "    <tr>\n",
       "      <th>351</th>\n",
       "      <td>0</td>\n",
       "      <td>75</td>\n",
       "      <td>10</td>\n",
       "      <td>72</td>\n",
       "      <td>1</td>\n",
       "      <td>19</td>\n",
       "      <td>5</td>\n",
       "      <td>1</td>\n",
       "      <td>1</td>\n",
       "      <td>0</td>\n",
       "      <td>...</td>\n",
       "      <td>False</td>\n",
       "      <td>True</td>\n",
       "      <td>False</td>\n",
       "      <td>False</td>\n",
       "      <td>False</td>\n",
       "      <td>False</td>\n",
       "      <td>False</td>\n",
       "      <td>True</td>\n",
       "      <td>False</td>\n",
       "      <td>True</td>\n",
       "    </tr>\n",
       "    <tr>\n",
       "      <th>538</th>\n",
       "      <td>1</td>\n",
       "      <td>75</td>\n",
       "      <td>11</td>\n",
       "      <td>71</td>\n",
       "      <td>1</td>\n",
       "      <td>20</td>\n",
       "      <td>5</td>\n",
       "      <td>0</td>\n",
       "      <td>1</td>\n",
       "      <td>0</td>\n",
       "      <td>...</td>\n",
       "      <td>False</td>\n",
       "      <td>False</td>\n",
       "      <td>True</td>\n",
       "      <td>False</td>\n",
       "      <td>False</td>\n",
       "      <td>False</td>\n",
       "      <td>False</td>\n",
       "      <td>True</td>\n",
       "      <td>False</td>\n",
       "      <td>True</td>\n",
       "    </tr>\n",
       "    <tr>\n",
       "      <th>600</th>\n",
       "      <td>0</td>\n",
       "      <td>35</td>\n",
       "      <td>14</td>\n",
       "      <td>43</td>\n",
       "      <td>0</td>\n",
       "      <td>11</td>\n",
       "      <td>3</td>\n",
       "      <td>0</td>\n",
       "      <td>0</td>\n",
       "      <td>0</td>\n",
       "      <td>...</td>\n",
       "      <td>False</td>\n",
       "      <td>False</td>\n",
       "      <td>False</td>\n",
       "      <td>False</td>\n",
       "      <td>False</td>\n",
       "      <td>False</td>\n",
       "      <td>True</td>\n",
       "      <td>False</td>\n",
       "      <td>False</td>\n",
       "      <td>True</td>\n",
       "    </tr>\n",
       "    <tr>\n",
       "      <th>...</th>\n",
       "      <td>...</td>\n",
       "      <td>...</td>\n",
       "      <td>...</td>\n",
       "      <td>...</td>\n",
       "      <td>...</td>\n",
       "      <td>...</td>\n",
       "      <td>...</td>\n",
       "      <td>...</td>\n",
       "      <td>...</td>\n",
       "      <td>...</td>\n",
       "      <td>...</td>\n",
       "      <td>...</td>\n",
       "      <td>...</td>\n",
       "      <td>...</td>\n",
       "      <td>...</td>\n",
       "      <td>...</td>\n",
       "      <td>...</td>\n",
       "      <td>...</td>\n",
       "      <td>...</td>\n",
       "      <td>...</td>\n",
       "      <td>...</td>\n",
       "    </tr>\n",
       "    <tr>\n",
       "      <th>78596</th>\n",
       "      <td>1</td>\n",
       "      <td>65</td>\n",
       "      <td>3</td>\n",
       "      <td>69</td>\n",
       "      <td>3</td>\n",
       "      <td>11</td>\n",
       "      <td>5</td>\n",
       "      <td>1</td>\n",
       "      <td>1</td>\n",
       "      <td>0</td>\n",
       "      <td>...</td>\n",
       "      <td>False</td>\n",
       "      <td>False</td>\n",
       "      <td>False</td>\n",
       "      <td>False</td>\n",
       "      <td>False</td>\n",
       "      <td>False</td>\n",
       "      <td>False</td>\n",
       "      <td>True</td>\n",
       "      <td>False</td>\n",
       "      <td>True</td>\n",
       "    </tr>\n",
       "    <tr>\n",
       "      <th>80316</th>\n",
       "      <td>1</td>\n",
       "      <td>65</td>\n",
       "      <td>6</td>\n",
       "      <td>51</td>\n",
       "      <td>0</td>\n",
       "      <td>20</td>\n",
       "      <td>9</td>\n",
       "      <td>0</td>\n",
       "      <td>1</td>\n",
       "      <td>1</td>\n",
       "      <td>...</td>\n",
       "      <td>False</td>\n",
       "      <td>False</td>\n",
       "      <td>False</td>\n",
       "      <td>False</td>\n",
       "      <td>False</td>\n",
       "      <td>False</td>\n",
       "      <td>False</td>\n",
       "      <td>True</td>\n",
       "      <td>False</td>\n",
       "      <td>True</td>\n",
       "    </tr>\n",
       "    <tr>\n",
       "      <th>80397</th>\n",
       "      <td>0</td>\n",
       "      <td>45</td>\n",
       "      <td>3</td>\n",
       "      <td>78</td>\n",
       "      <td>0</td>\n",
       "      <td>8</td>\n",
       "      <td>9</td>\n",
       "      <td>0</td>\n",
       "      <td>0</td>\n",
       "      <td>0</td>\n",
       "      <td>...</td>\n",
       "      <td>False</td>\n",
       "      <td>True</td>\n",
       "      <td>False</td>\n",
       "      <td>False</td>\n",
       "      <td>False</td>\n",
       "      <td>False</td>\n",
       "      <td>False</td>\n",
       "      <td>True</td>\n",
       "      <td>False</td>\n",
       "      <td>True</td>\n",
       "    </tr>\n",
       "    <tr>\n",
       "      <th>80821</th>\n",
       "      <td>1</td>\n",
       "      <td>55</td>\n",
       "      <td>7</td>\n",
       "      <td>72</td>\n",
       "      <td>0</td>\n",
       "      <td>16</td>\n",
       "      <td>9</td>\n",
       "      <td>1</td>\n",
       "      <td>1</td>\n",
       "      <td>0</td>\n",
       "      <td>...</td>\n",
       "      <td>False</td>\n",
       "      <td>True</td>\n",
       "      <td>False</td>\n",
       "      <td>False</td>\n",
       "      <td>False</td>\n",
       "      <td>False</td>\n",
       "      <td>False</td>\n",
       "      <td>True</td>\n",
       "      <td>False</td>\n",
       "      <td>True</td>\n",
       "    </tr>\n",
       "    <tr>\n",
       "      <th>80874</th>\n",
       "      <td>1</td>\n",
       "      <td>45</td>\n",
       "      <td>2</td>\n",
       "      <td>60</td>\n",
       "      <td>0</td>\n",
       "      <td>4</td>\n",
       "      <td>6</td>\n",
       "      <td>1</td>\n",
       "      <td>1</td>\n",
       "      <td>0</td>\n",
       "      <td>...</td>\n",
       "      <td>False</td>\n",
       "      <td>True</td>\n",
       "      <td>False</td>\n",
       "      <td>False</td>\n",
       "      <td>False</td>\n",
       "      <td>False</td>\n",
       "      <td>False</td>\n",
       "      <td>True</td>\n",
       "      <td>False</td>\n",
       "      <td>True</td>\n",
       "    </tr>\n",
       "  </tbody>\n",
       "</table>\n",
       "<p>234 rows × 46 columns</p>\n",
       "</div>"
      ],
      "text/plain": [
       "       gender  age  time_in_hospital  num_lab_procedures  num_procedures  \\\n",
       "125         1    0                 5                  47               1   \n",
       "149         0   45                 2                  53               0   \n",
       "351         0   75                10                  72               1   \n",
       "538         1   75                11                  71               1   \n",
       "600         0   35                14                  43               0   \n",
       "...       ...  ...               ...                 ...             ...   \n",
       "78596       1   65                 3                  69               3   \n",
       "80316       1   65                 6                  51               0   \n",
       "80397       0   45                 3                  78               0   \n",
       "80821       1   55                 7                  72               0   \n",
       "80874       1   45                 2                  60               0   \n",
       "\n",
       "       num_medications  number_diagnoses  change  diabetesMed  readmitted  \\\n",
       "125                  6                 5       0            0           1   \n",
       "149                  4                 2       0            0           0   \n",
       "351                 19                 5       1            1           0   \n",
       "538                 20                 5       0            1           0   \n",
       "600                 11                 3       0            0           0   \n",
       "...                ...               ...     ...          ...         ...   \n",
       "78596               11                 5       1            1           0   \n",
       "80316               20                 9       0            1           1   \n",
       "80397                8                 9       0            0           0   \n",
       "80821               16                 9       1            1           0   \n",
       "80874                4                 6       1            1           0   \n",
       "\n",
       "       ...  diag_1_category_3  diag_1_category_4  diag_1_category_5  \\\n",
       "125    ...              False              False              False   \n",
       "149    ...              False               True              False   \n",
       "351    ...              False               True              False   \n",
       "538    ...              False              False               True   \n",
       "600    ...              False              False              False   \n",
       "...    ...                ...                ...                ...   \n",
       "78596  ...              False              False              False   \n",
       "80316  ...              False              False              False   \n",
       "80397  ...              False               True              False   \n",
       "80821  ...              False               True              False   \n",
       "80874  ...              False               True              False   \n",
       "\n",
       "       diag_1_category_6  diag_1_category_7  diag_1_category_8  \\\n",
       "125                False              False              False   \n",
       "149                False              False              False   \n",
       "351                False              False              False   \n",
       "538                False              False              False   \n",
       "600                False              False              False   \n",
       "...                  ...                ...                ...   \n",
       "78596              False              False              False   \n",
       "80316              False              False              False   \n",
       "80397              False              False              False   \n",
       "80821              False              False              False   \n",
       "80874              False              False              False   \n",
       "\n",
       "       max_glu_serum_1  max_glu_serum_2  A1Cresult_1  A1Cresult_2  \n",
       "125              False             True         True        False  \n",
       "149              False             True        False         True  \n",
       "351              False             True        False         True  \n",
       "538              False             True        False         True  \n",
       "600               True            False        False         True  \n",
       "...                ...              ...          ...          ...  \n",
       "78596            False             True        False         True  \n",
       "80316            False             True        False         True  \n",
       "80397            False             True        False         True  \n",
       "80821            False             True        False         True  \n",
       "80874            False             True        False         True  \n",
       "\n",
       "[234 rows x 46 columns]"
      ]
     },
     "execution_count": 347,
     "metadata": {},
     "output_type": "execute_result"
    }
   ],
   "source": [
    "data1"
   ]
  },
  {
   "cell_type": "code",
   "execution_count": 348,
   "metadata": {},
   "outputs": [],
   "source": [
    "y = data1['readmitted']"
   ]
  },
  {
   "cell_type": "code",
   "execution_count": 349,
   "metadata": {},
   "outputs": [],
   "source": [
    "X = data1.drop('readmitted',axis=1)"
   ]
  },
  {
   "cell_type": "code",
   "execution_count": 350,
   "metadata": {},
   "outputs": [
    {
     "ename": "NameError",
     "evalue": "name 'train_test_split' is not defined",
     "output_type": "error",
     "traceback": [
      "\u001b[1;31m---------------------------------------------------------------------------\u001b[0m",
      "\u001b[1;31mNameError\u001b[0m                                 Traceback (most recent call last)",
      "Cell \u001b[1;32mIn[350], line 1\u001b[0m\n\u001b[1;32m----> 1\u001b[0m X_train, X_test, Y_train, Y_test \u001b[38;5;241m=\u001b[39m \u001b[43mtrain_test_split\u001b[49m(X,y, test_size\u001b[38;5;241m=\u001b[39m\u001b[38;5;241m0.20\u001b[39m, random_state\u001b[38;5;241m=\u001b[39m\u001b[38;5;241m42\u001b[39m)\n",
      "\u001b[1;31mNameError\u001b[0m: name 'train_test_split' is not defined"
     ]
    }
   ],
   "source": [
    "X_train, X_test, Y_train, Y_test = train_test_split(X,y, test_size=0.20, random_state=42)"
   ]
  },
  {
   "cell_type": "code",
   "execution_count": null,
   "metadata": {},
   "outputs": [],
   "source": [
    "from sklearn.ensemble import RandomForestClassifier\n",
    "from sklearn.feature_selection import SelectFromModel\n",
    "from sklearn.model_selection import GridSearchCV\n",
    "clf = RandomForestClassifier(n_estimators=64, max_features='sqrt')\n",
    "clf = clf.fit(X_train, Y_train)"
   ]
  },
  {
   "cell_type": "code",
   "execution_count": null,
   "metadata": {},
   "outputs": [],
   "source": [
    "features = pd.DataFrame()\n",
    "features['feature'] = X_train.columns\n",
    "features['importance'] = clf.feature_importances_\n",
    "features.sort_values(by=['importance'], ascending=True, inplace=True)\n",
    "features.set_index('feature', inplace=True)"
   ]
  },
  {
   "cell_type": "markdown",
   "metadata": {},
   "source": [
    "There are 82 features in the model but not all the features have the predictive power. We have eliminated the features that has less than 1% importance."
   ]
  },
  {
   "cell_type": "code",
   "execution_count": null,
   "metadata": {},
   "outputs": [],
   "source": [
    "features.plot(kind='barh', figsize=(20, 20))"
   ]
  },
  {
   "cell_type": "code",
   "execution_count": null,
   "metadata": {
    "scrolled": true
   },
   "outputs": [],
   "source": [
    "#deleting all the low important features starting from diag_1_category_8\n",
    "low_importance_features = ['diag_1_category_8','admission_source_id_4', 'discharge_disposition_id_2','admission_source_id_17',\\\n",
    "      'discharge_disposition_id_18','admission_type_id_5','discharge_disposition_id_5','race_Hispanic',\\\n",
    "      'max_glu_serum_0', 'max_glu_serum_2', 'race_Other', 'admission_source_id_6','max_glu_serum_1',\\\n",
    "      'admission_source_id_2','discharge_disposition_id_4','admission_source_id_5', 'race_Asian', \\\n",
    "      'discharge_disposition_id_28','discharge_disposition_id_11','discharge_disposition_id_15',\\\n",
    "      'discharge_disposition_id_25','discharge_disposition_id_7', 'admission_type_id_8', 'admission_source_id_3',\\\n",
    "      'admission_source_id_20','discharge_disposition_id_23','discharge_disposition_id_14','discharge_disposition_id_13',\\\n",
    "      'discharge_disposition_id_8','discharge_disposition_id_16', 'admission_source_id_9', 'discharge_disposition_id_9','discharge_disposition_id_24',\\\n",
    "      'admission_type_id_4','admission_type_id_7','admission_source_id_10','discharge_disposition_id_19','discharge_disposition_id_17',\\\n",
    "      'admission_source_id_8','discharge_disposition_id_16','admission_source_id_25','discharge_disposition_id_10','discharge_disposition_id_20',\\\n",
    "      'admission_source_id_13','admission_source_id_11','admission_source_id_22','admission_source_id_14',\\\n",
    "      'discharge_disposition_id_27','discharge_disposition_id_12']\n"
   ]
  },
  {
   "cell_type": "code",
   "execution_count": null,
   "metadata": {},
   "outputs": [],
   "source": [
    "data_final = data1.drop(low_importance_features, axis = 1)"
   ]
  },
  {
   "cell_type": "code",
   "execution_count": null,
   "metadata": {},
   "outputs": [],
   "source": [
    "data_final"
   ]
  },
  {
   "cell_type": "code",
   "execution_count": null,
   "metadata": {},
   "outputs": [],
   "source": [
    "#removing the low_importance columns and creating a new dataframe"
   ]
  },
  {
   "cell_type": "code",
   "execution_count": null,
   "metadata": {},
   "outputs": [],
   "source": [
    "y = data_final['readmitted']"
   ]
  },
  {
   "cell_type": "code",
   "execution_count": null,
   "metadata": {},
   "outputs": [],
   "source": [
    "X = data_final.drop('readmitted',axis=1)"
   ]
  },
  {
   "cell_type": "code",
   "execution_count": null,
   "metadata": {},
   "outputs": [],
   "source": [
    "X_train, X_test, Y_train, Y_test = train_test_split(X,y, test_size=0.20, random_state=42)"
   ]
  },
  {
   "cell_type": "markdown",
   "metadata": {},
   "source": [
    "# Decision Tree"
   ]
  },
  {
   "cell_type": "code",
   "execution_count": null,
   "metadata": {},
   "outputs": [],
   "source": [
    "from sklearn.tree import DecisionTreeClassifier\n",
    "from sklearn.metrics import classification_report, f1_score, accuracy_score, precision_score, recall_score"
   ]
  },
  {
   "cell_type": "code",
   "execution_count": null,
   "metadata": {},
   "outputs": [],
   "source": [
    "from sklearn.model_selection import cross_val_score\n",
    "\n",
    "performance = []\n",
    "for max_depth in [2,3,5,7,10]:\n",
    "    dTree = DecisionTreeClassifier(criterion='entropy', class_weight = \"balanced\", max_depth=max_depth)\n",
    "    performance.append((max_depth, np.mean(cross_val_score(dTree, X_train, Y_train, cv = 10, scoring = \"f1_micro\"))))"
   ]
  },
  {
   "cell_type": "code",
   "execution_count": null,
   "metadata": {},
   "outputs": [],
   "source": [
    "print(performance)\n",
    "print(\"The best tree size is: \") \n",
    "str(sorted(performance, key = lambda x: x[1])[-1][0])"
   ]
  },
  {
   "cell_type": "code",
   "execution_count": null,
   "metadata": {
    "scrolled": true
   },
   "outputs": [],
   "source": [
    "X_train"
   ]
  },
  {
   "cell_type": "code",
   "execution_count": null,
   "metadata": {},
   "outputs": [],
   "source": [
    "from sklearn.model_selection import cross_val_score, KFold\n",
    "\n",
    "dTree = DecisionTreeClassifier(criterion='entropy', class_weight='balanced', max_depth = 5)\n",
    "kf = KFold(n_splits=10, shuffle=True, random_state=0)\n",
    "dTree.fit(X_train, Y_train)\n",
    "\n",
    "print(\"Test Results:\")\n",
    "y_prediction = dTree.predict(X_test)\n",
    "print(classification_report(Y_test, y_prediction))"
   ]
  },
  {
   "cell_type": "markdown",
   "metadata": {},
   "source": [
    "# Logistic Regression"
   ]
  },
  {
   "cell_type": "code",
   "execution_count": null,
   "metadata": {},
   "outputs": [],
   "source": [
    "from sklearn.linear_model import LogisticRegressionCV\n",
    "from sklearn.preprocessing import StandardScaler\n",
    "\n",
    "scaler = StandardScaler()\n",
    "X_train_normal = scaler.fit_transform(X_train)\n",
    "X_test_normal = scaler.transform(X_test)\n",
    "\n",
    "model = LogisticRegressionCV(Cs = 10, cv = 10, class_weight = \"balanced\")\n",
    "model.fit(X_train_normal, Y_train)"
   ]
  },
  {
   "cell_type": "code",
   "execution_count": null,
   "metadata": {},
   "outputs": [],
   "source": [
    "y_prediction = model.predict(X_test_normal)\n",
    "print(classification_report(y_prediction, Y_test))"
   ]
  },
  {
   "cell_type": "markdown",
   "metadata": {},
   "source": [
    "# Reading the test dataset"
   ]
  },
  {
   "cell_type": "code",
   "execution_count": null,
   "metadata": {},
   "outputs": [],
   "source": [
    "data2=pd.read_csv(\"test_data.csv\",header=0,skiprows=0,engine='python')\n",
    "ids = data2['encounter_id']\n",
    "data2[ids.isin(ids[ids.duplicated()])]\n",
    "data2 = data2.replace('?', np.NaN )\n",
    "data2 = data2.replace('Unknown/Invalid', np.NaN )\n",
    "\n"
   ]
  },
  {
   "cell_type": "code",
   "execution_count": null,
   "metadata": {},
   "outputs": [],
   "source": [
    "data2.drop(['weight','payer_code','medical_specialty','diag_2', 'diag_3'],axis=1,inplace=True)\n",
    "data2.dropna(inplace=True)\n",
    "data2.drop(['examide','citoglipton'],axis=1,inplace=True)\n",
    "data2['change'] = data2['change'].apply(lambda x: 0 if x == \"No\" else 1)\n",
    "data2['gender'] = data2['gender'].apply(lambda x: 0 if x == \"Female\" else 1)\n",
    "data2['diabetesMed'] = data2['diabetesMed'].apply(lambda x: 0 if x == \"No\" else 1)\n",
    "data2['total_visits'] = data2['number_outpatient'] + data2['number_emergency'] + data2['number_inpatient']\n",
    "def agecategory(x):\n",
    "    \n",
    "    if x == \"[0-10)\" :\n",
    "        return 5\n",
    "    elif x == \"[10-20)\":\n",
    "        return 15\n",
    "    elif x == \"[20-30)\":\n",
    "        return 25\n",
    "    elif x == \"[30-40)\":\n",
    "        return 35\n",
    "    elif x == \"[40-50)\":\n",
    "        return 45\n",
    "    elif x == \"[50-60)\":\n",
    "        return 55\n",
    "    elif x == \"[60-70)\":\n",
    "        return 65\n",
    "    elif x == \"[70-80)\":\n",
    "        return 75\n",
    "    else:\n",
    "        return 0\n",
    "data2['age'] = data2['age'].apply(lambda x: agecategory(x))\n",
    "treatments = ['metformin' ,'repaglinide','nateglinide','chlorpropamide','glimepiride','acetohexamide' ,'glipizide',\\\n",
    "              'glyburide', 'tolbutamide', 'pioglitazone','rosiglitazone', 'acarbose' ,'miglitol' ,'troglitazone', \\\n",
    "              'tolazamide', 'insulin' ,'glyburide-metformin','glipizide-metformin', \\\n",
    "              'glimepiride-pioglitazone', 'metformin-rosiglitazone', 'metformin-pioglitazone']\n",
    "for i in treatments:\n",
    "    data2[i] = data2[i].apply(lambda x: 0 if x == \"No\" else 1)\n",
    "data2['treatments_taken'] = np.zeros((len(data2['metformin'])))\n",
    "for col in treatments:\n",
    "    data2['treatments_taken'] += data2[col]\n",
    "    \n",
    "data2['A1Cresult'] = data2['A1Cresult'].apply(lambda x: 0 if x == \"None\" else (1 if x==\"Norm\" else 2) )\n",
    "data2['max_glu_serum'] = data2['max_glu_serum'].apply(lambda x: 0 if x == \"None\" else (1 if x==\"Norm\" else 2) )\n",
    "\n",
    "def getCategor(x):\n",
    "    if 'V' in str(x) or 'E' in str(x):\n",
    "        return 0\n",
    "    \n",
    "    x = float(x)\n",
    "    \n",
    "    if (x >= 390 and x <= 459) or np.floor(x) == 785:\n",
    "        return 1\n",
    "    elif (x >= 460 and x <= 519) or np.floor(x) == 786:\n",
    "        return 2\n",
    "    elif (x >= 520 and x <= 579) or np.floor(x) == 787:\n",
    "        return 3\n",
    "    elif np.floor(x) == 250:\n",
    "        return 4\n",
    "    elif x >= 800 and x <= 999:\n",
    "        return 5\n",
    "    elif x >= 710 and x <= 739:\n",
    "        return 6\n",
    "    elif (x >= 580 and x <= 629) or np.floor(x) == 788:\n",
    "        return 7\n",
    "    elif x >= 140 and x <= 239:\n",
    "        return 8\n",
    "    else:\n",
    "        return 0\n",
    "\n",
    "data2['diag_1_category'] = data2['diag_1'].apply(lambda x: getCategor(x))\n",
    "\n",
    "patients = data2['patient_nbr']\n",
    "data2[patients.isin(patients[patients.duplicated()])]\n",
    "data2 = data2.drop_duplicates(subset= ['patient_nbr'], keep = 'first')\n",
    "data2['admission_type_id'] = data2['admission_type_id'].astype('object')\n",
    "data2['admission_source_id'] = data2['admission_source_id'].astype('object')\n",
    "data2['discharge_disposition_id'] = data2['discharge_disposition_id'].astype('object')\n",
    "data2['diag_1_category'] = data2['diag_1_category'].astype('object')\n",
    "data2['max_glu_serum'] = data2['max_glu_serum'].astype('object')\n",
    "data2['A1Cresult'] = data2['A1Cresult'].astype('object')\n",
    "\n",
    "delete_columns = ['patient_nbr','number_outpatient','number_emergency','number_inpatient',\\\n",
    "                 'metformin','repaglinide','nateglinide','chlorpropamide','glimepiride','acetohexamide','glipizide'\\\n",
    "                  ,'glyburide','tolbutamide','pioglitazone','rosiglitazone','acarbose','miglitol','troglitazone' \\\n",
    "                  ,'tolazamide','insulin','glyburide-metformin','glipizide-metformin','glimepiride-pioglitazone',\\\n",
    "                  'metformin-rosiglitazone','metformin-pioglitazone','diag_1']\n",
    "\n",
    "data2.drop(delete_columns, inplace=True, axis=1)\n",
    "\n",
    "categorical=data2.select_dtypes(include=['object'])\n",
    "numeric=data2.select_dtypes(exclude=['object'])\n",
    "\n",
    "nominal_columns = ['race', 'admission_type_id', 'discharge_disposition_id','admission_source_id' ,'diag_1_category'\\\n",
    "                  , 'max_glu_serum', 'A1Cresult']\n",
    "dummy_df = pd.get_dummies(data2[nominal_columns])\n",
    "data2 = pd.concat([data2, dummy_df], axis=1)\n",
    "data2 = data2.drop(nominal_columns, axis=1)\n",
    "\n",
    "low_importance_features = ['diag_1_category_8','admission_source_id_4', 'discharge_disposition_id_2','admission_source_id_17',\\\n",
    "      'discharge_disposition_id_18','admission_type_id_5','discharge_disposition_id_5','race_Hispanic',\\\n",
    "      'max_glu_serum_0', 'max_glu_serum_2', 'race_Other', 'admission_source_id_6','max_glu_serum_1',\\\n",
    "      'admission_source_id_2','discharge_disposition_id_4','admission_source_id_5', 'race_Asian', \\\n",
    "      'discharge_disposition_id_28','discharge_disposition_id_11','discharge_disposition_id_15',\\\n",
    "      'discharge_disposition_id_25','discharge_disposition_id_7', 'admission_type_id_8', 'admission_source_id_3',\\\n",
    "      'admission_source_id_20','discharge_disposition_id_23','discharge_disposition_id_14','discharge_disposition_id_13',\\\n",
    "      'discharge_disposition_id_8', 'admission_source_id_9', 'discharge_disposition_id_9','discharge_disposition_id_24',\\\n",
    "      'admission_type_id_4','admission_type_id_7','discharge_disposition_id_19','discharge_disposition_id_17',\\\n",
    "      'admission_source_id_8','discharge_disposition_id_10',\\\n",
    "      'admission_source_id_22','admission_source_id_14',\\\n",
    "      'discharge_disposition_id_27']\n",
    "\n",
    "\n",
    "data2= data2.drop(low_importance_features, axis=1)"
   ]
  },
  {
   "cell_type": "code",
   "execution_count": null,
   "metadata": {},
   "outputs": [],
   "source": [
    "data2[0:3]"
   ]
  },
  {
   "cell_type": "code",
   "execution_count": null,
   "metadata": {},
   "outputs": [],
   "source": [
    "data2new= data2.iloc[:,1:35] "
   ]
  },
  {
   "cell_type": "code",
   "execution_count": null,
   "metadata": {},
   "outputs": [],
   "source": [
    "#predicting using Decision Tree Classifier\n",
    "y_prediction_DTC = dTree.predict(data2new[1:])"
   ]
  },
  {
   "cell_type": "code",
   "execution_count": null,
   "metadata": {},
   "outputs": [],
   "source": [
    "data2new = data2new.reset_index(drop=True)"
   ]
  },
  {
   "cell_type": "code",
   "execution_count": null,
   "metadata": {},
   "outputs": [],
   "source": [
    "print(data2new.isnull().sum())"
   ]
  },
  {
   "cell_type": "code",
   "execution_count": null,
   "metadata": {},
   "outputs": [],
   "source": [
    "#predicting using logistic regression classifier\n",
    "data2_scalar = scaler.fit_transform(data2new)\n",
    "y_prediction_LRC = model.predict(data2_scalar)"
   ]
  },
  {
   "cell_type": "code",
   "execution_count": null,
   "metadata": {},
   "outputs": [],
   "source": [
    "predicted_probability = model.predict_proba(data2_scalar)"
   ]
  },
  {
   "cell_type": "code",
   "execution_count": null,
   "metadata": {},
   "outputs": [],
   "source": [
    "predicted_probability = pd.DataFrame(predicted_probability)\n"
   ]
  },
  {
   "cell_type": "code",
   "execution_count": null,
   "metadata": {},
   "outputs": [],
   "source": [
    "data2['y_prediction_LRC'] = pd.DataFrame(y_prediction_LRC)\n"
   ]
  },
  {
   "cell_type": "code",
   "execution_count": null,
   "metadata": {},
   "outputs": [],
   "source": [
    "data2['y_prediction_DTC'] = pd.DataFrame(y_prediction_DTC)[0]"
   ]
  },
  {
   "cell_type": "code",
   "execution_count": null,
   "metadata": {},
   "outputs": [],
   "source": [
    "data2['predicted_probability_LR_0'] = pd.DataFrame(predicted_probability)[0]"
   ]
  },
  {
   "cell_type": "code",
   "execution_count": null,
   "metadata": {},
   "outputs": [],
   "source": [
    "data2['predicted_probability_LR_1'] = pd.DataFrame(predicted_probability)[1]"
   ]
  },
  {
   "cell_type": "code",
   "execution_count": null,
   "metadata": {},
   "outputs": [],
   "source": [
    "predicted_probability_decisiontree = dTree.predict_proba(data2new)\n",
    "data2['predicted_probability_decisiontree_0'] = pd.DataFrame(predicted_probability_decisiontree)[0]\n",
    "data2['predicted_probability_decisiontree_1'] = pd.DataFrame(predicted_probability_decisiontree)[1]"
   ]
  },
  {
   "cell_type": "code",
   "execution_count": null,
   "metadata": {},
   "outputs": [],
   "source": [
    "data2[0:3]"
   ]
  },
  {
   "cell_type": "markdown",
   "metadata": {},
   "source": [
    "predicted_probability_LR_0 = Predicted probability using Logistic Regression Classification for 0 "
   ]
  },
  {
   "cell_type": "markdown",
   "metadata": {},
   "source": [
    "predicted_probability_LR_1 = Predicted probability using Logistic Regression Classification for 1 "
   ]
  },
  {
   "cell_type": "markdown",
   "metadata": {},
   "source": [
    "y_prediction_LRC = Predicted readmission using Logistic Regression Classification. "
   ]
  },
  {
   "cell_type": "markdown",
   "metadata": {},
   "source": [
    "predicted_probability_decisiontree_0 = Predicted probability using Decision Tree Classification for 0 "
   ]
  },
  {
   "cell_type": "markdown",
   "metadata": {},
   "source": [
    "predicted_probability_decisiontree_1 = Predicted probability using Decision Tree Classification for 1 "
   ]
  },
  {
   "cell_type": "markdown",
   "metadata": {},
   "source": [
    "y_prediction_DTC = Predicted readmission using Decision Tree Classification."
   ]
  },
  {
   "cell_type": "code",
   "execution_count": null,
   "metadata": {},
   "outputs": [],
   "source": [
    "prediction=data2[['encounter_id','predicted_probability_LR_0','predicted_probability_LR_1', \\\n",
    "                  'y_prediction_LRC','predicted_probability_decisiontree_0','predicted_probability_decisiontree_1',\\\n",
    "                  'y_prediction_DTC']]"
   ]
  },
  {
   "cell_type": "code",
   "execution_count": null,
   "metadata": {},
   "outputs": [],
   "source": [
    "prediction[0:4]"
   ]
  },
  {
   "cell_type": "code",
   "execution_count": null,
   "metadata": {},
   "outputs": [],
   "source": [
    "prediction.to_csv(\"prediction.csv\")"
   ]
  }
 ],
 "metadata": {
  "kernelspec": {
   "display_name": "Python 3",
   "language": "python",
   "name": "python3"
  },
  "language_info": {
   "codemirror_mode": {
    "name": "ipython",
    "version": 3
   },
   "file_extension": ".py",
   "mimetype": "text/x-python",
   "name": "python",
   "nbconvert_exporter": "python",
   "pygments_lexer": "ipython3",
   "version": "3.11.9"
  }
 },
 "nbformat": 4,
 "nbformat_minor": 2
}
